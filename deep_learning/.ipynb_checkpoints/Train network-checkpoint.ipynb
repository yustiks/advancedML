{
 "cells": [
  {
   "cell_type": "markdown",
   "metadata": {},
   "source": [
    "## Imports"
   ]
  },
  {
   "cell_type": "code",
   "execution_count": 1,
   "metadata": {},
   "outputs": [],
   "source": [
    "import os\n",
    "import math\n",
    "import shutil\n",
    "import numpy as np\n",
    "import tensorflow as tf\n",
    "import matplotlib.pyplot as plt\n",
    "\n",
    "from read_data import *\n",
    "from aux_functions import *\n",
    "\n",
    "classes_dict = {\n",
    "    'by_country' : 4,\n",
    "    'by_style' : 7,\n",
    "    'by_product' : 2\n",
    "}"
   ]
  },
  {
   "cell_type": "markdown",
   "metadata": {},
   "source": [
    "## Set the classification problem"
   ]
  },
  {
   "cell_type": "code",
   "execution_count": 2,
   "metadata": {},
   "outputs": [],
   "source": [
    "problem_type = 'by_country'"
   ]
  },
  {
   "cell_type": "markdown",
   "metadata": {},
   "source": [
    "## Set saving / restoring"
   ]
  },
  {
   "cell_type": "code",
   "execution_count": 3,
   "metadata": {},
   "outputs": [],
   "source": [
    "restoring_mode = False\n",
    "saving_mode = True\n",
    "\n",
    "restoring_name = 'first_model.ckpt'\n",
    "saving_name = 'first_model.ckpt'\n",
    "\n",
    "restoring_path = os.path.join('models', problem_type, restoring_name)\n",
    "saving_path = os.path.join('models', problem_type, saving_name)"
   ]
  },
  {
   "cell_type": "markdown",
   "metadata": {},
   "source": [
    "## Adjust Hyperparameters"
   ]
  },
  {
   "cell_type": "code",
   "execution_count": 4,
   "metadata": {},
   "outputs": [],
   "source": [
    "EPOCHS = 1e6\n",
    "BATCH_SIZE = 32\n",
    "VALIDATION_BATCH = 32\n",
    "\n",
    "IMG_SIZE = 150\n",
    "CLASSES = classes_dict[problem_type]"
   ]
  },
  {
   "cell_type": "markdown",
   "metadata": {},
   "source": [
    "## Neural Network functions"
   ]
  },
  {
   "cell_type": "markdown",
   "metadata": {},
   "source": [
    "### Convolution Layers"
   ]
  },
  {
   "cell_type": "code",
   "execution_count": 5,
   "metadata": {},
   "outputs": [],
   "source": [
    "def conv_layer(X, filters, filter_size, name, activation=None):\n",
    "    \"\"\"Create a new convolution layer with Xavier initializer\"\"\"\n",
    "    \n",
    "    with tf.variable_scope(name):\n",
    "        \n",
    "        # create Xavier initializer node \n",
    "        in_channels = int(X.get_shape()[3])\n",
    "        init = tf.contrib.layers.xavier_initializer_conv2d()\n",
    "    \n",
    "        # create the parameter structures         \n",
    "        W = tf.get_variable(initializer=init, \n",
    "                            shape=(filter_size[0], filter_size[1],\n",
    "                                   in_channels, filters),\n",
    "                            name=\"weights\")\n",
    "        b = tf.get_variable(initializer=tf.zeros(filters),\n",
    "                            name=\"biases\")\n",
    "        \n",
    "        # perform convolution and add bias\n",
    "        conv = tf.nn.conv2d(X, W, strides=(1, 1, 1, 1), padding=\"SAME\")\n",
    "        z = tf.nn.bias_add(conv, b)\n",
    "        \n",
    "        # activation function\n",
    "        if activation == \"relu\":\n",
    "            return tf.nn.relu(z)\n",
    "        else:\n",
    "            return z\n",
    "\n",
    "        \n",
    "def pooling_layer(X, kernel_size):\n",
    "    \"\"\"Perform max pooling\"\"\"\n",
    "    \n",
    "    return tf.nn.max_pool(X,\n",
    "                          ksize=(1, kernel_size[0], kernel_size[1], 1),\n",
    "                          strides=(1, kernel_size[0], kernel_size[1], 1),\n",
    "                          padding=\"VALID\")"
   ]
  },
  {
   "cell_type": "markdown",
   "metadata": {},
   "source": [
    "### Dense Layers"
   ]
  },
  {
   "cell_type": "code",
   "execution_count": 6,
   "metadata": {},
   "outputs": [],
   "source": [
    "def dense_layer(X, n_neurons, name, activation=None):\n",
    "    \"\"\"Create a new fully connected layer with Xavier initializer\"\"\"\n",
    "    \n",
    "    with tf.variable_scope(name):\n",
    "        \n",
    "        # create Xavier initializer node \n",
    "        n_inputs = int(X.get_shape()[1])\n",
    "        init = tf.contrib.layers.xavier_initializer()\n",
    "        \n",
    "        # create the parameter structures     \n",
    "        W = tf.get_variable(initializer=init,\n",
    "                            shape=(n_inputs, n_neurons),\n",
    "                            name=\"weights\")\n",
    "        b = tf.get_variable(initializer=tf.zeros(n_neurons),\n",
    "                            name=\"biases\")\n",
    "        z = tf.matmul(X, W) + b\n",
    "        \n",
    "        if activation==\"relu\":\n",
    "            return tf.nn.relu(z)\n",
    "        else:\n",
    "            return z"
   ]
  },
  {
   "cell_type": "markdown",
   "metadata": {},
   "source": [
    "## Build the model and deploy it on a device"
   ]
  },
  {
   "cell_type": "code",
   "execution_count": 7,
   "metadata": {},
   "outputs": [],
   "source": [
    "with tf.device('/cpu:0'):\n",
    "    \n",
    "    #==================[ READ AND PROCESS THE INPUT ]==================#\n",
    "    \n",
    "    # decide the dataset input type\n",
    "    is_training = tf.placeholder(tf.bool, name=\"is_training\")\n",
    "        \n",
    "    # load training data from input queues     \n",
    "    images_trn, labels_trn = inputs(problem_type, BATCH_SIZE, EPOCHS)\n",
    "    \n",
    "    # load validation data from feed dictionary\n",
    "    images_val = tf.placeholder(tf.uint8, shape=[VALIDATION_BATCH, IMG_SIZE, IMG_SIZE, 3])\n",
    "    labels_val = tf.placeholder(tf.int32, shape=[VALIDATION_BATCH,])\n",
    "    \n",
    "    # choose the input\n",
    "    images, labels = tf.cond(is_training, lambda: (images_trn, labels_trn),\n",
    "                                          lambda: (images_val, labels_val))\n",
    "\n",
    "    # normalize the images     \n",
    "    images = (tf.cast(images, tf.float32) / 255.0)\n",
    "    # correct the labels     \n",
    "    labels = labels - 1"
   ]
  },
  {
   "cell_type": "code",
   "execution_count": 8,
   "metadata": {},
   "outputs": [
    {
     "name": "stdout",
     "output_type": "stream",
     "text": [
      "WARNING:tensorflow:From C:\\Apps\\Anaconda2\\envs\\work\\lib\\site-packages\\tensorflow\\contrib\\learn\\python\\learn\\datasets\\base.py:198: retry (from tensorflow.contrib.learn.python.learn.datasets.base) is deprecated and will be removed in a future version.\n",
      "Instructions for updating:\n",
      "Use the retry module or similar alternatives.\n"
     ]
    }
   ],
   "source": [
    "with tf.device('/gpu:0'):\n",
    "\n",
    "    #==================[ CONVOLUTIONAL LAYERS ]==================#\n",
    "    \n",
    "    images_conv_11 = conv_layer(images, 8, (5, 5), \"conv_11\", \"relu\")\n",
    "    images_conv_12 = conv_layer(images_conv_11, 8, (5, 5), \"conv_12\", \"relu\")\n",
    "    images_pool_1  = pooling_layer(images_conv_12, (3, 3))\n",
    "\n",
    "    images_conv_21 = conv_layer(images_pool_1, 16, (3, 3), \"conv_21\", \"relu\")\n",
    "    images_conv_22 = conv_layer(images_conv_21, 16, (3, 3), \"conv_22\", \"relu\")\n",
    "    images_pool_2  = pooling_layer(images_conv_22, (3, 3))\n",
    "        \n",
    "    #==================[     DENSE LAYERS     ]==================#\n",
    "    \n",
    "    images_flatten = tf.contrib.layers.flatten(images_pool_2)\n",
    "    images_dense_1 = dense_layer(images_flatten, 64, \"dense_1\", \"relu\")\n",
    "    images_dense_2 = dense_layer(images_dense_1, 64, \"dense_2\", \"relu\")\n",
    "    \n",
    "    #==================[     OUTPUT LAYER     ]==================#\n",
    "    \n",
    "    logits = dense_layer(images_dense_2, CLASSES, \"logits\")\n",
    "    xentropy = tf.nn.sparse_softmax_cross_entropy_with_logits(labels=labels,\n",
    "                                                              logits=logits)\n",
    "    loss = tf.reduce_mean(xentropy, name=\"loss\")\n",
    "    \n",
    "    #==================[     OPTIMIZATION     ]==================#\n",
    "    \n",
    "    optimizer = tf.train.AdamOptimizer(learning_rate=1e-3)\n",
    "    training_op = optimizer.minimize(loss)\n",
    "    \n",
    "    #==================[      EVALUATION      ]==================#\n",
    "    \n",
    "    _, accuracy = tf.metrics.accuracy(labels=labels,\n",
    "                                      predictions=tf.argmax(logits, -1))\n",
    "    "
   ]
  },
  {
   "cell_type": "markdown",
   "metadata": {},
   "source": [
    "## Create the session and start the threads for input queues"
   ]
  },
  {
   "cell_type": "code",
   "execution_count": 9,
   "metadata": {},
   "outputs": [],
   "source": [
    "# create the session saver\n",
    "saver = tf.train.Saver()\n",
    "\n",
    "# create a session for running operations in the graph.\n",
    "sess = tf.Session()\n",
    "\n",
    "# create the variable initializers\n",
    "init_op = tf.group(tf.global_variables_initializer(),\n",
    "                   tf.local_variables_initializer())\n",
    "\n",
    "# initialize the variables\n",
    "sess.run(init_op)\n",
    "\n",
    "if restoring_mode:\n",
    "    # previously saved model is restored\n",
    "    saver.restore(sess, restoring_path)\n",
    "    \n",
    "# start input enqueue threads.\n",
    "coord = tf.train.Coordinator()\n",
    "threads = tf.train.start_queue_runners(sess=sess, coord=coord)"
   ]
  },
  {
   "cell_type": "markdown",
   "metadata": {},
   "source": [
    "## Collect data for Tensorboard"
   ]
  },
  {
   "cell_type": "code",
   "execution_count": 10,
   "metadata": {},
   "outputs": [],
   "source": [
    "# clear tensorboard old data\n",
    "try:\n",
    "    shutil.rmtree(os.path.join('tensorboard', problem_type))\n",
    "except FileNotFoundError:\n",
    "    pass\n",
    "\n",
    "with tf.device('/cpu:0'):\n",
    "    \n",
    "    summary_conv_12 = tf.summary.image('conv_12', images_conv_12[:,:,:,:3])\n",
    "    summary_conv_22 = tf.summary.image('conv_22', images_conv_22[:,:,:,:3])\n",
    "    \n",
    "    train_loss = tf.summary.scalar('training_loss', loss)\n",
    "    val_loss = tf.summary.scalar('validation_loss', loss)\n",
    "    train_acc = tf.summary.scalar('training_accuracy', accuracy)\n",
    "    val_acc = tf.summary.scalar('validation_accuracy', accuracy)\n",
    "\n",
    "    convs_merged = tf.summary.merge([summary_conv_12, summary_conv_22])\n",
    "    train_merged = tf.summary.merge([train_loss, train_acc])\n",
    "    val_merged = tf.summary.merge([val_loss, val_acc])\n",
    "    \n",
    "    summary_writer = tf.summary.FileWriter(\n",
    "        os.path.join('tensorboard', problem_type), sess.graph)"
   ]
  },
  {
   "cell_type": "markdown",
   "metadata": {},
   "source": [
    "## Load validation data"
   ]
  },
  {
   "cell_type": "code",
   "execution_count": 11,
   "metadata": {},
   "outputs": [],
   "source": [
    "# load validation data\n",
    "images_validation = np.load(os.path.join('data_' + problem_type, 'testing_data.dat'))\n",
    "labels_validation = np.load(os.path.join('data_' + problem_type, 'testing_labels.dat'))"
   ]
  },
  {
   "cell_type": "markdown",
   "metadata": {},
   "source": [
    "## Training loop"
   ]
  },
  {
   "cell_type": "code",
   "execution_count": 12,
   "metadata": {},
   "outputs": [
    {
     "name": "stdout",
     "output_type": "stream",
     "text": [
      "\n",
      "Step   100 : Training >> loss = 0.526 accuracy = 65.61%  ||  Testing >> loss = 0.392 accuracy = 73.56%\n",
      "Step   200 : Training >> loss = 0.323 accuracy = 77.24%  ||  Testing >> loss = 0.359 accuracy = 79.80%\n",
      "Step   300 : Training >> loss = 0.284 accuracy = 81.52%  ||  Testing >> loss = 0.459 accuracy = 81.75%\n",
      "Step   400 : Training >> loss = 0.193 accuracy = 83.01%  ||  Testing >> loss = 0.410 accuracy = 83.86%\n",
      "Step   500 : Training >> loss = 0.131 accuracy = 84.91%  ||  Testing >> loss = 0.481 accuracy = 85.81%\n",
      "Step   600 : Training >> loss = 0.095 accuracy = 86.61%  ||  Testing >> loss = 0.498 accuracy = 87.17%\n",
      "Step   700 : Training >> loss = 0.095 accuracy = 87.78%  ||  Testing >> loss = 0.495 accuracy = 88.07%\n",
      "Step   800 : Training >> loss = 0.060 accuracy = 88.58%  ||  Testing >> loss = 0.627 accuracy = 89.04%\n",
      "Step   900 : Training >> loss = 0.031 accuracy = 89.50%  ||  Testing >> loss = 0.550 accuracy = 89.85%\n",
      "Step  1000 : Training >> loss = 0.042 accuracy = 90.23%  ||  Testing >> loss = 0.592 accuracy = 90.51%\n",
      "\n",
      "           |  pattern  |  product  \n",
      "  pattern  |    279    |    41     \n",
      "  product  |    61     |    387    \n"
     ]
    },
    {
     "data": {
      "image/png": "[encoded data removed]",
      "text/plain": [
       "<matplotlib.figure.Figure at 0x171d52a1358>"
      ]
     },
     "metadata": {},
     "output_type": "display_data"
    },
    {
     "name": "stdout",
     "output_type": "stream",
     "text": [
      "\n",
      "Step  1100 : Training >> loss = 0.054 accuracy = 90.82%  ||  Testing >> loss = 0.513 accuracy = 90.95%\n",
      "Step  1200 : Training >> loss = 0.077 accuracy = 91.06%  ||  Testing >> loss = 0.485 accuracy = 91.21%\n",
      "Step  1300 : Training >> loss = 0.011 accuracy = 91.46%  ||  Testing >> loss = 0.746 accuracy = 91.67%\n",
      "Step  1400 : Training >> loss = 0.005 accuracy = 91.90%  ||  Testing >> loss = 0.725 accuracy = 92.08%\n",
      "Step  1500 : Training >> loss = 0.002 accuracy = 92.28%  ||  Testing >> loss = 0.865 accuracy = 92.42%\n",
      "Step  1600 : Training >> loss = 0.002 accuracy = 92.60%  ||  Testing >> loss = 0.831 accuracy = 92.72%\n",
      "Step  1700 : Training >> loss = 0.000 accuracy = 92.87%  ||  Testing >> loss = 0.867 accuracy = 92.98%\n",
      "Step  1800 : Training >> loss = 0.000 accuracy = 93.12%  ||  Testing >> loss = 0.886 accuracy = 93.22%\n",
      "Step  1900 : Training >> loss = 0.000 accuracy = 93.34%  ||  Testing >> loss = 0.908 accuracy = 93.43%\n",
      "Step  2000 : Training >> loss = 0.000 accuracy = 93.55%  ||  Testing >> loss = 0.943 accuracy = 93.62%\n",
      "\n",
      "           |  pattern  |  product  \n",
      "  pattern  |    255    |    65     \n",
      "  product  |    48     |    400    \n"
     ]
    },
    {
     "data": {
      "image/png": "[encoded data removed]",
      "text/plain": [
       "<matplotlib.figure.Figure at 0x17284659f60>"
      ]
     },
     "metadata": {},
     "output_type": "display_data"
    },
    {
     "name": "stdout",
     "output_type": "stream",
     "text": [
      "\n",
      "Step  2100 : Training >> loss = 0.000 accuracy = 93.72%  ||  Testing >> loss = 0.950 accuracy = 93.79%\n",
      "Step  2200 : Training >> loss = 0.000 accuracy = 93.89%  ||  Testing >> loss = 0.961 accuracy = 93.95%\n",
      "Step  2300 : Training >> loss = 0.000 accuracy = 94.04%  ||  Testing >> loss = 0.978 accuracy = 94.09%\n",
      "Step  2400 : Training >> loss = 0.000 accuracy = 94.17%  ||  Testing >> loss = 0.987 accuracy = 94.22%\n",
      "Step  2500 : Training >> loss = 0.000 accuracy = 94.30%  ||  Testing >> loss = 0.997 accuracy = 94.34%\n",
      "Step  2600 : Training >> loss = 0.000 accuracy = 94.41%  ||  Testing >> loss = 1.014 accuracy = 94.45%\n",
      "Step  2700 : Training >> loss = 0.000 accuracy = 94.51%  ||  Testing >> loss = 1.028 accuracy = 94.55%\n",
      "Step  2800 : Training >> loss = 0.000 accuracy = 94.61%  ||  Testing >> loss = 1.034 accuracy = 94.65%\n",
      "Step  2900 : Training >> loss = 0.000 accuracy = 94.70%  ||  Testing >> loss = 1.042 accuracy = 94.73%\n",
      "Step  3000 : Training >> loss = 0.000 accuracy = 94.78%  ||  Testing >> loss = 1.051 accuracy = 94.81%\n",
      "\n",
      "           |  pattern  |  product  \n",
      "  pattern  |    256    |    64     \n",
      "  product  |    48     |    400    \n"
     ]
    },
    {
     "data": {
      "image/png": "[encoded data removed]",
      "text/plain": [
       "<matplotlib.figure.Figure at 0x172856d0898>"
      ]
     },
     "metadata": {},
     "output_type": "display_data"
    },
    {
     "name": "stdout",
     "output_type": "stream",
     "text": [
      "\n",
      "Step  3100 : Training >> loss = 0.000 accuracy = 94.86%  ||  Testing >> loss = 1.069 accuracy = 94.89%\n",
      "Step  3200 : Training >> loss = 0.000 accuracy = 94.94%  ||  Testing >> loss = 1.074 accuracy = 94.96%\n",
      "Step  3300 : Training >> loss = 0.000 accuracy = 95.01%  ||  Testing >> loss = 1.077 accuracy = 95.03%\n",
      "Step  3400 : Training >> loss = 0.000 accuracy = 95.07%  ||  Testing >> loss = 1.088 accuracy = 95.09%\n",
      "Step  3500 : Training >> loss = 0.000 accuracy = 95.13%  ||  Testing >> loss = 1.094 accuracy = 95.15%\n",
      "Step  3600 : Training >> loss = 0.000 accuracy = 95.19%  ||  Testing >> loss = 1.099 accuracy = 95.21%\n",
      "Step  3700 : Training >> loss = 0.000 accuracy = 95.24%  ||  Testing >> loss = 1.109 accuracy = 95.26%\n",
      "Step  3800 : Training >> loss = 0.000 accuracy = 95.29%  ||  Testing >> loss = 1.117 accuracy = 95.31%\n",
      "Step  3900 : Training >> loss = 0.000 accuracy = 95.34%  ||  Testing >> loss = 1.127 accuracy = 95.36%\n",
      "Step  4000 : Training >> loss = 0.000 accuracy = 95.39%  ||  Testing >> loss = 1.124 accuracy = 95.40%\n",
      "\n",
      "           |  pattern  |  product  \n",
      "  pattern  |    256    |    64     \n",
      "  product  |    50     |    398    \n"
     ]
    },
    {
     "data": {
      "image/png": "[encoded data removed]",
      "text/plain": [
       "<matplotlib.figure.Figure at 0x17284659278>"
      ]
     },
     "metadata": {},
     "output_type": "display_data"
    },
    {
     "name": "stdout",
     "output_type": "stream",
     "text": [
      "\n",
      "Step  4100 : Training >> loss = 0.000 accuracy = 95.43%  ||  Testing >> loss = 1.135 accuracy = 95.45%\n",
      "Step  4200 : Training >> loss = 0.000 accuracy = 95.47%  ||  Testing >> loss = 1.142 accuracy = 95.49%\n",
      "Step  4300 : Training >> loss = 0.000 accuracy = 95.51%  ||  Testing >> loss = 1.152 accuracy = 95.53%\n",
      "Step  4400 : Training >> loss = 0.000 accuracy = 95.55%  ||  Testing >> loss = 1.159 accuracy = 95.56%\n",
      "Step  4500 : Training >> loss = 0.000 accuracy = 95.59%  ||  Testing >> loss = 1.168 accuracy = 95.60%\n",
      "Step  4600 : Training >> loss = 0.000 accuracy = 95.62%  ||  Testing >> loss = 1.174 accuracy = 95.63%\n",
      "Step  4700 : Training >> loss = 0.000 accuracy = 95.65%  ||  Testing >> loss = 1.180 accuracy = 95.66%\n",
      "Step  4800 : Training >> loss = 0.000 accuracy = 95.68%  ||  Testing >> loss = 1.191 accuracy = 95.69%\n",
      "Step  4900 : Training >> loss = 0.000 accuracy = 95.71%  ||  Testing >> loss = 1.193 accuracy = 95.72%\n",
      "Step  5000 : Training >> loss = 0.000 accuracy = 95.74%  ||  Testing >> loss = 1.202 accuracy = 95.75%\n",
      "\n",
      "           |  pattern  |  product  \n",
      "  pattern  |    255    |    65     \n",
      "  product  |    48     |    400    \n"
     ]
    },
    {
     "data": {
      "image/png": "[encoded data removed]",
      "text/plain": [
       "<matplotlib.figure.Figure at 0x1728a444e10>"
      ]
     },
     "metadata": {},
     "output_type": "display_data"
    },
    {
     "name": "stdout",
     "output_type": "stream",
     "text": [
      "\n",
      "Step  5100 : Training >> loss = 0.000 accuracy = 95.77%  ||  Testing >> loss = 1.207 accuracy = 95.78%\n",
      "Step  5200 : Training >> loss = 0.000 accuracy = 95.80%  ||  Testing >> loss = 1.211 accuracy = 95.80%\n",
      "Step  5300 : Training >> loss = 0.000 accuracy = 95.82%  ||  Testing >> loss = 1.219 accuracy = 95.83%\n",
      "Step  5400 : Training >> loss = 0.000 accuracy = 95.85%  ||  Testing >> loss = 1.223 accuracy = 95.85%\n",
      "Step  5500 : Training >> loss = 0.000 accuracy = 95.87%  ||  Testing >> loss = 1.231 accuracy = 95.88%\n",
      "Step  5600 : Training >> loss = 0.000 accuracy = 95.90%  ||  Testing >> loss = 1.235 accuracy = 95.90%\n",
      "Step  5700 : Training >> loss = 0.000 accuracy = 95.92%  ||  Testing >> loss = 1.240 accuracy = 95.92%\n",
      "Step  5800 : Training >> loss = 0.000 accuracy = 95.94%  ||  Testing >> loss = 1.247 accuracy = 95.94%\n",
      "Step  5900 : Training >> loss = 0.000 accuracy = 95.96%  ||  Testing >> loss = 1.252 accuracy = 95.97%\n",
      "Step  6000 : Training >> loss = 0.000 accuracy = 95.98%  ||  Testing >> loss = 1.260 accuracy = 95.99%\n",
      "\n",
      "           |  pattern  |  product  \n",
      "  pattern  |    256    |    64     \n",
      "  product  |    49     |    399    \n"
     ]
    },
    {
     "data": {
      "image/png": "[encoded data removed]",
      "text/plain": [
       "<matplotlib.figure.Figure at 0x17296212470>"
      ]
     },
     "metadata": {},
     "output_type": "display_data"
    },
    {
     "name": "stdout",
     "output_type": "stream",
     "text": [
      "\n",
      "Step  6100 : Training >> loss = 0.000 accuracy = 96.00%  ||  Testing >> loss = 1.269 accuracy = 96.00%\n",
      "Step  6200 : Training >> loss = 0.000 accuracy = 96.02%  ||  Testing >> loss = 1.269 accuracy = 96.02%\n",
      "Step  6300 : Training >> loss = 0.000 accuracy = 96.04%  ||  Testing >> loss = 1.286 accuracy = 96.04%\n",
      "Step  6400 : Training >> loss = 0.000 accuracy = 96.05%  ||  Testing >> loss = 1.286 accuracy = 96.06%\n",
      "Step  6500 : Training >> loss = 0.000 accuracy = 96.07%  ||  Testing >> loss = 1.296 accuracy = 96.07%\n",
      "Step  6600 : Training >> loss = 0.000 accuracy = 96.09%  ||  Testing >> loss = 1.304 accuracy = 96.09%\n",
      "Step  6700 : Training >> loss = 0.000 accuracy = 96.10%  ||  Testing >> loss = 1.304 accuracy = 96.11%\n",
      "Step  6800 : Training >> loss = 0.000 accuracy = 96.12%  ||  Testing >> loss = 1.311 accuracy = 96.12%\n",
      "Step  6900 : Training >> loss = 0.000 accuracy = 96.14%  ||  Testing >> loss = 1.320 accuracy = 96.14%\n",
      "Step  7000 : Training >> loss = 0.000 accuracy = 96.15%  ||  Testing >> loss = 1.324 accuracy = 96.15%\n",
      "\n",
      "           |  pattern  |  product  \n",
      "  pattern  |    256    |    64     \n",
      "  product  |    49     |    399    \n"
     ]
    },
    {
     "data": {
      "image/png": "[encoded data removed]",
      "text/plain": [
       "<matplotlib.figure.Figure at 0x1728b072cc0>"
      ]
     },
     "metadata": {},
     "output_type": "display_data"
    },
    {
     "name": "stdout",
     "output_type": "stream",
     "text": [
      "\n",
      "Step  7100 : Training >> loss = 0.000 accuracy = 96.16%  ||  Testing >> loss = 1.332 accuracy = 96.17%\n",
      "Step  7200 : Training >> loss = 0.000 accuracy = 96.18%  ||  Testing >> loss = 1.340 accuracy = 96.18%\n",
      "Step  7300 : Training >> loss = 0.000 accuracy = 96.19%  ||  Testing >> loss = 1.341 accuracy = 96.19%\n",
      "Step  7400 : Training >> loss = 0.000 accuracy = 96.20%  ||  Testing >> loss = 1.346 accuracy = 96.21%\n",
      "Step  7500 : Training >> loss = 0.000 accuracy = 96.22%  ||  Testing >> loss = 1.350 accuracy = 96.22%\n",
      "Step  7600 : Training >> loss = 0.000 accuracy = 96.23%  ||  Testing >> loss = 1.360 accuracy = 96.23%\n",
      "Step  7700 : Training >> loss = 0.000 accuracy = 96.24%  ||  Testing >> loss = 1.362 accuracy = 96.24%\n",
      "Step  7800 : Training >> loss = 0.000 accuracy = 96.25%  ||  Testing >> loss = 1.364 accuracy = 96.26%\n",
      "Step  7900 : Training >> loss = 0.000 accuracy = 96.27%  ||  Testing >> loss = 1.376 accuracy = 96.27%\n",
      "Step  8000 : Training >> loss = 0.000 accuracy = 96.28%  ||  Testing >> loss = 1.380 accuracy = 96.28%\n",
      "\n",
      "           |  pattern  |  product  \n",
      "  pattern  |    256    |    64     \n",
      "  product  |    49     |    399    \n"
     ]
    },
    {
     "data": {
      "image/png": "[encoded data removed]",
      "text/plain": [
       "<matplotlib.figure.Figure at 0x1728b0729e8>"
      ]
     },
     "metadata": {},
     "output_type": "display_data"
    },
    {
     "name": "stdout",
     "output_type": "stream",
     "text": [
      "\n",
      "Step  8100 : Training >> loss = 0.000 accuracy = 96.29%  ||  Testing >> loss = 1.388 accuracy = 96.29%\n",
      "Step  8200 : Training >> loss = 0.000 accuracy = 96.30%  ||  Testing >> loss = 1.394 accuracy = 96.30%\n",
      "Step  8300 : Training >> loss = 0.000 accuracy = 96.31%  ||  Testing >> loss = 1.402 accuracy = 96.31%\n",
      "Step  8400 : Training >> loss = 0.000 accuracy = 96.32%  ||  Testing >> loss = 1.399 accuracy = 96.32%\n",
      "Step  8500 : Training >> loss = 0.000 accuracy = 96.33%  ||  Testing >> loss = 1.407 accuracy = 96.33%\n",
      "Step  8600 : Training >> loss = 0.000 accuracy = 96.34%  ||  Testing >> loss = 1.421 accuracy = 96.34%\n",
      "Step  8700 : Training >> loss = 0.000 accuracy = 96.35%  ||  Testing >> loss = 1.421 accuracy = 96.35%\n",
      "Step  8800 : Training >> loss = 0.000 accuracy = 96.36%  ||  Testing >> loss = 1.428 accuracy = 96.36%\n",
      "Step  8900 : Training >> loss = 0.000 accuracy = 96.37%  ||  Testing >> loss = 1.430 accuracy = 96.37%\n",
      "Step  9000 : Training >> loss = 0.000 accuracy = 96.38%  ||  Testing >> loss = 1.440 accuracy = 96.38%\n",
      "\n",
      "           |  pattern  |  product  \n",
      "  pattern  |    257    |    63     \n",
      "  product  |    49     |    399    \n"
     ]
    },
    {
     "data": {
      "image/png": "[encoded data removed]",
      "text/plain": [
       "<matplotlib.figure.Figure at 0x172856ef1d0>"
      ]
     },
     "metadata": {},
     "output_type": "display_data"
    },
    {
     "name": "stdout",
     "output_type": "stream",
     "text": [
      "\n",
      "Step  9100 : Training >> loss = 0.000 accuracy = 96.39%  ||  Testing >> loss = 1.451 accuracy = 96.39%\n",
      "Step  9200 : Training >> loss = 0.000 accuracy = 96.39%  ||  Testing >> loss = 1.449 accuracy = 96.40%\n",
      "Step  9300 : Training >> loss = 0.000 accuracy = 96.40%  ||  Testing >> loss = 1.453 accuracy = 96.40%\n",
      "Step  9400 : Training >> loss = 0.000 accuracy = 96.41%  ||  Testing >> loss = 1.468 accuracy = 96.41%\n",
      "Step  9500 : Training >> loss = 0.000 accuracy = 96.42%  ||  Testing >> loss = 1.464 accuracy = 96.42%\n",
      "Step  9600 : Training >> loss = 0.000 accuracy = 96.43%  ||  Testing >> loss = 1.472 accuracy = 96.43%\n",
      "Step  9700 : Training >> loss = 0.000 accuracy = 96.44%  ||  Testing >> loss = 1.481 accuracy = 96.44%\n",
      "Step  9800 : Training >> loss = 0.000 accuracy = 96.44%  ||  Testing >> loss = 1.486 accuracy = 96.44%\n",
      "Step  9900 : Training >> loss = 0.000 accuracy = 96.45%  ||  Testing >> loss = 1.491 accuracy = 96.45%\n",
      "Step 10000 : Training >> loss = 0.000 accuracy = 96.46%  ||  Testing >> loss = 1.494 accuracy = 96.46%\n",
      "\n",
      "           |  pattern  |  product  \n",
      "  pattern  |    256    |    64     \n",
      "  product  |    49     |    399    \n"
     ]
    },
    {
     "data": {
      "image/png": "[encoded data removed]",
      "text/plain": [
       "<matplotlib.figure.Figure at 0x172856ba0f0>"
      ]
     },
     "metadata": {},
     "output_type": "display_data"
    },
    {
     "name": "stdout",
     "output_type": "stream",
     "text": [
      "\n",
      "Step 10100 : Training >> loss = 0.000 accuracy = 96.46%  ||  Testing >> loss = 1.501 accuracy = 96.46%\n",
      "Step 10200 : Training >> loss = 0.000 accuracy = 96.47%  ||  Testing >> loss = 1.504 accuracy = 96.47%\n",
      "Step 10300 : Training >> loss = 0.000 accuracy = 96.48%  ||  Testing >> loss = 1.513 accuracy = 96.48%\n",
      "Step 10400 : Training >> loss = 0.000 accuracy = 96.48%  ||  Testing >> loss = 1.517 accuracy = 96.48%\n",
      "Step 10500 : Training >> loss = 0.000 accuracy = 96.49%  ||  Testing >> loss = 1.520 accuracy = 96.49%\n",
      "Step 10600 : Training >> loss = 0.000 accuracy = 96.50%  ||  Testing >> loss = 1.527 accuracy = 96.50%\n",
      "Step 10700 : Training >> loss = 0.000 accuracy = 96.50%  ||  Testing >> loss = 1.534 accuracy = 96.50%\n",
      "Step 10800 : Training >> loss = 0.000 accuracy = 96.51%  ||  Testing >> loss = 1.536 accuracy = 96.51%\n",
      "Step 10900 : Training >> loss = 0.000 accuracy = 96.52%  ||  Testing >> loss = 1.547 accuracy = 96.52%\n",
      "Step 11000 : Training >> loss = 0.000 accuracy = 96.52%  ||  Testing >> loss = 1.550 accuracy = 96.52%\n",
      "\n",
      "           |  pattern  |  product  \n",
      "  pattern  |    258    |    62     \n",
      "  product  |    49     |    399    \n"
     ]
    },
    {
     "data": {
      "image/png": "[encoded data removed]",
      "text/plain": [
       "<matplotlib.figure.Figure at 0x1728b047d68>"
      ]
     },
     "metadata": {},
     "output_type": "display_data"
    },
    {
     "name": "stdout",
     "output_type": "stream",
     "text": [
      "\n",
      "Step 11100 : Training >> loss = 0.000 accuracy = 96.53%  ||  Testing >> loss = 1.555 accuracy = 96.53%\n",
      "Step 11200 : Training >> loss = 0.000 accuracy = 96.53%  ||  Testing >> loss = 1.556 accuracy = 96.53%\n",
      "Step 11300 : Training >> loss = 0.000 accuracy = 96.54%  ||  Testing >> loss = 1.567 accuracy = 96.54%\n",
      "Step 11400 : Training >> loss = 0.000 accuracy = 96.55%  ||  Testing >> loss = 1.579 accuracy = 96.55%\n",
      "Step 11500 : Training >> loss = 0.000 accuracy = 96.55%  ||  Testing >> loss = 1.576 accuracy = 96.55%\n",
      "Step 11600 : Training >> loss = 0.000 accuracy = 96.56%  ||  Testing >> loss = 1.587 accuracy = 96.56%\n",
      "Step 11700 : Training >> loss = 0.000 accuracy = 96.56%  ||  Testing >> loss = 1.590 accuracy = 96.56%\n",
      "Step 11800 : Training >> loss = 0.000 accuracy = 96.57%  ||  Testing >> loss = 1.599 accuracy = 96.57%\n",
      "Step 11900 : Training >> loss = 0.000 accuracy = 96.57%  ||  Testing >> loss = 1.598 accuracy = 96.57%\n",
      "Step 12000 : Training >> loss = 0.000 accuracy = 96.58%  ||  Testing >> loss = 1.603 accuracy = 96.58%\n",
      "\n",
      "           |  pattern  |  product  \n",
      "  pattern  |    257    |    63     \n",
      "  product  |    49     |    399    \n"
     ]
    },
    {
     "data": {
      "image/png": "[encoded data removed]",
      "text/plain": [
       "<matplotlib.figure.Figure at 0x172856c7550>"
      ]
     },
     "metadata": {},
     "output_type": "display_data"
    },
    {
     "name": "stdout",
     "output_type": "stream",
     "text": [
      "\n",
      "Step 12100 : Training >> loss = 0.000 accuracy = 96.58%  ||  Testing >> loss = 1.611 accuracy = 96.58%\n",
      "Step 12200 : Training >> loss = 0.000 accuracy = 96.59%  ||  Testing >> loss = 1.619 accuracy = 96.59%\n",
      "Step 12300 : Training >> loss = 0.000 accuracy = 96.59%  ||  Testing >> loss = 1.628 accuracy = 96.59%\n",
      "Step 12400 : Training >> loss = 0.000 accuracy = 96.60%  ||  Testing >> loss = 1.631 accuracy = 96.60%\n",
      "Step 12500 : Training >> loss = 0.000 accuracy = 96.60%  ||  Testing >> loss = 1.634 accuracy = 96.60%\n",
      "Step 12600 : Training >> loss = 0.000 accuracy = 96.61%  ||  Testing >> loss = 1.641 accuracy = 96.61%\n",
      "Step 12700 : Training >> loss = 0.000 accuracy = 96.61%  ||  Testing >> loss = 1.649 accuracy = 96.61%\n",
      "Step 12800 : Training >> loss = 0.000 accuracy = 96.62%  ||  Testing >> loss = 1.650 accuracy = 96.62%\n",
      "Step 12900 : Training >> loss = 0.000 accuracy = 96.62%  ||  Testing >> loss = 1.655 accuracy = 96.62%\n",
      "Step 13000 : Training >> loss = 0.000 accuracy = 96.63%  ||  Testing >> loss = 1.660 accuracy = 96.63%\n",
      "\n",
      "           |  pattern  |  product  \n",
      "  pattern  |    257    |    63     \n",
      "  product  |    48     |    400    \n"
     ]
    },
    {
     "data": {
      "image/png": "[encoded data removed]",
      "text/plain": [
       "<matplotlib.figure.Figure at 0x17296258b38>"
      ]
     },
     "metadata": {},
     "output_type": "display_data"
    },
    {
     "name": "stdout",
     "output_type": "stream",
     "text": [
      "\n",
      "Step 13100 : Training >> loss = 0.000 accuracy = 96.63%  ||  Testing >> loss = 1.664 accuracy = 96.63%\n",
      "Step 13200 : Training >> loss = 0.000 accuracy = 96.63%  ||  Testing >> loss = 1.682 accuracy = 96.63%\n",
      "Step 13300 : Training >> loss = 0.000 accuracy = 96.64%  ||  Testing >> loss = 1.682 accuracy = 96.64%\n",
      "Step 13400 : Training >> loss = 0.000 accuracy = 96.64%  ||  Testing >> loss = 1.683 accuracy = 96.64%\n",
      "Step 13500 : Training >> loss = 0.000 accuracy = 96.65%  ||  Testing >> loss = 1.698 accuracy = 96.65%\n",
      "Step 13600 : Training >> loss = 0.000 accuracy = 96.65%  ||  Testing >> loss = 1.695 accuracy = 96.65%\n",
      "Step 13700 : Training >> loss = 0.000 accuracy = 96.66%  ||  Testing >> loss = 1.699 accuracy = 96.66%\n",
      "Step 13800 : Training >> loss = 0.000 accuracy = 96.66%  ||  Testing >> loss = 1.706 accuracy = 96.66%\n",
      "Step 13900 : Training >> loss = 0.000 accuracy = 96.66%  ||  Testing >> loss = 1.714 accuracy = 96.66%\n",
      "Step 14000 : Training >> loss = 0.000 accuracy = 96.67%  ||  Testing >> loss = 1.720 accuracy = 96.67%\n",
      "\n",
      "           |  pattern  |  product  \n",
      "  pattern  |    257    |    63     \n",
      "  product  |    48     |    400    \n"
     ]
    },
    {
     "data": {
      "image/png": "[encoded data removed]",
      "text/plain": [
       "<matplotlib.figure.Figure at 0x1728b02ba90>"
      ]
     },
     "metadata": {},
     "output_type": "display_data"
    },
    {
     "name": "stdout",
     "output_type": "stream",
     "text": [
      "\n",
      "Step 14100 : Training >> loss = 0.000 accuracy = 96.67%  ||  Testing >> loss = 1.730 accuracy = 96.67%\n",
      "Step 14200 : Training >> loss = 0.000 accuracy = 96.68%  ||  Testing >> loss = 1.734 accuracy = 96.67%\n",
      "Step 14300 : Training >> loss = 0.000 accuracy = 96.68%  ||  Testing >> loss = 1.738 accuracy = 96.68%\n",
      "Step 14400 : Training >> loss = 0.000 accuracy = 96.68%  ||  Testing >> loss = 1.742 accuracy = 96.68%\n",
      "Step 14500 : Training >> loss = 0.000 accuracy = 96.69%  ||  Testing >> loss = 1.748 accuracy = 96.69%\n",
      "Step 14600 : Training >> loss = 0.000 accuracy = 96.69%  ||  Testing >> loss = 1.746 accuracy = 96.69%\n",
      "Step 14700 : Training >> loss = 0.000 accuracy = 96.69%  ||  Testing >> loss = 1.759 accuracy = 96.69%\n",
      "Step 14800 : Training >> loss = 0.000 accuracy = 96.70%  ||  Testing >> loss = 1.772 accuracy = 96.70%\n",
      "Step 14900 : Training >> loss = 0.000 accuracy = 96.70%  ||  Testing >> loss = 1.774 accuracy = 96.70%\n",
      "Step 15000 : Training >> loss = 0.000 accuracy = 96.70%  ||  Testing >> loss = 1.781 accuracy = 96.70%\n",
      "\n",
      "           |  pattern  |  product  \n",
      "  pattern  |    257    |    63     \n",
      "  product  |    48     |    400    \n"
     ]
    },
    {
     "data": {
      "image/png": "[encoded data removed]",
      "text/plain": [
       "<matplotlib.figure.Figure at 0x172bdf76588>"
      ]
     },
     "metadata": {},
     "output_type": "display_data"
    },
    {
     "name": "stdout",
     "output_type": "stream",
     "text": [
      "\n",
      "Step 15100 : Training >> loss = 0.000 accuracy = 96.71%  ||  Testing >> loss = 1.784 accuracy = 96.71%\n",
      "Step 15200 : Training >> loss = 0.000 accuracy = 96.71%  ||  Testing >> loss = 1.793 accuracy = 96.71%\n",
      "Step 15300 : Training >> loss = 0.000 accuracy = 96.71%  ||  Testing >> loss = 1.797 accuracy = 96.71%\n",
      "Step 15400 : Training >> loss = 0.000 accuracy = 96.72%  ||  Testing >> loss = 1.796 accuracy = 96.72%\n",
      "Step 15500 : Training >> loss = 0.000 accuracy = 96.72%  ||  Testing >> loss = 1.814 accuracy = 96.72%\n",
      "Step 15600 : Training >> loss = 0.000 accuracy = 96.72%  ||  Testing >> loss = 1.801 accuracy = 96.72%\n",
      "Step 15700 : Training >> loss = 0.000 accuracy = 96.73%  ||  Testing >> loss = 1.816 accuracy = 96.73%\n",
      "Step 15800 : Training >> loss = 0.000 accuracy = 96.73%  ||  Testing >> loss = 1.820 accuracy = 96.73%\n",
      "Step 15900 : Training >> loss = 0.000 accuracy = 96.73%  ||  Testing >> loss = 1.824 accuracy = 96.73%\n",
      "Step 16000 : Training >> loss = 0.000 accuracy = 96.74%  ||  Testing >> loss = 1.829 accuracy = 96.73%\n",
      "\n",
      "           |  pattern  |  product  \n",
      "  pattern  |    257    |    63     \n",
      "  product  |    48     |    400    \n"
     ]
    },
    {
     "data": {
      "image/png": "[encoded data removed]",
      "text/plain": [
       "<matplotlib.figure.Figure at 0x172cdd33f98>"
      ]
     },
     "metadata": {},
     "output_type": "display_data"
    },
    {
     "name": "stdout",
     "output_type": "stream",
     "text": [
      "\n",
      "Step 16100 : Training >> loss = 0.000 accuracy = 96.74%  ||  Testing >> loss = 1.836 accuracy = 96.74%\n",
      "Step 16200 : Training >> loss = 0.000 accuracy = 96.74%  ||  Testing >> loss = 1.845 accuracy = 96.74%\n",
      "Step 16300 : Training >> loss = 0.000 accuracy = 96.74%  ||  Testing >> loss = 1.849 accuracy = 96.74%\n",
      "Step 16400 : Training >> loss = 0.000 accuracy = 96.75%  ||  Testing >> loss = 1.855 accuracy = 96.75%\n",
      "Step 16500 : Training >> loss = 0.000 accuracy = 96.75%  ||  Testing >> loss = 1.866 accuracy = 96.75%\n",
      "Step 16600 : Training >> loss = 0.000 accuracy = 96.75%  ||  Testing >> loss = 1.871 accuracy = 96.75%\n",
      "Step 16700 : Training >> loss = 0.000 accuracy = 96.76%  ||  Testing >> loss = 1.876 accuracy = 96.75%\n",
      "Step 16800 : Training >> loss = 0.000 accuracy = 96.76%  ||  Testing >> loss = 1.870 accuracy = 96.76%\n",
      "Step 16900 : Training >> loss = 0.000 accuracy = 96.76%  ||  Testing >> loss = 1.878 accuracy = 96.76%\n",
      "Step 17000 : Training >> loss = 0.000 accuracy = 96.76%  ||  Testing >> loss = 1.885 accuracy = 96.76%\n",
      "\n",
      "           |  pattern  |  product  \n",
      "  pattern  |    257    |    63     \n",
      "  product  |    48     |    400    \n"
     ]
    },
    {
     "data": {
      "image/png": "[encoded data removed]",
      "text/plain": [
       "<matplotlib.figure.Figure at 0x172cdd83080>"
      ]
     },
     "metadata": {},
     "output_type": "display_data"
    },
    {
     "name": "stdout",
     "output_type": "stream",
     "text": [
      "\n",
      "Step 17100 : Training >> loss = 0.000 accuracy = 96.77%  ||  Testing >> loss = 1.891 accuracy = 96.77%\n",
      "Step 17200 : Training >> loss = 0.000 accuracy = 96.77%  ||  Testing >> loss = 1.892 accuracy = 96.77%\n",
      "Step 17300 : Training >> loss = 0.000 accuracy = 96.77%  ||  Testing >> loss = 1.904 accuracy = 96.77%\n",
      "Step 17400 : Training >> loss = 0.000 accuracy = 96.77%  ||  Testing >> loss = 1.911 accuracy = 96.77%\n",
      "Step 17500 : Training >> loss = 0.000 accuracy = 96.78%  ||  Testing >> loss = 1.916 accuracy = 96.78%\n",
      "Step 17600 : Training >> loss = 0.000 accuracy = 96.78%  ||  Testing >> loss = 1.919 accuracy = 96.78%\n",
      "Step 17700 : Training >> loss = 0.000 accuracy = 96.78%  ||  Testing >> loss = 1.928 accuracy = 96.78%\n",
      "Step 17800 : Training >> loss = 0.000 accuracy = 96.78%  ||  Testing >> loss = 1.932 accuracy = 96.78%\n",
      "Step 17900 : Training >> loss = 0.000 accuracy = 96.79%  ||  Testing >> loss = 1.937 accuracy = 96.78%\n",
      "Step 18000 : Training >> loss = 0.000 accuracy = 96.79%  ||  Testing >> loss = 1.940 accuracy = 96.79%\n",
      "\n",
      "           |  pattern  |  product  \n",
      "  pattern  |    257    |    63     \n",
      "  product  |    48     |    400    \n"
     ]
    },
    {
     "data": {
      "image/png": "[encoded data removed]",
      "text/plain": [
       "<matplotlib.figure.Figure at 0x172cdcc3ac8>"
      ]
     },
     "metadata": {},
     "output_type": "display_data"
    },
    {
     "name": "stdout",
     "output_type": "stream",
     "text": [
      "\n",
      "Step 18100 : Training >> loss = 0.000 accuracy = 96.79%  ||  Testing >> loss = 1.946 accuracy = 96.79%\n",
      "Step 18200 : Training >> loss = 0.000 accuracy = 96.79%  ||  Testing >> loss = 1.956 accuracy = 96.79%\n",
      "Step 18300 : Training >> loss = 0.000 accuracy = 96.79%  ||  Testing >> loss = 1.966 accuracy = 96.79%\n",
      "Step 18400 : Training >> loss = 0.000 accuracy = 96.80%  ||  Testing >> loss = 1.964 accuracy = 96.80%\n",
      "Step 18500 : Training >> loss = 0.000 accuracy = 96.80%  ||  Testing >> loss = 1.966 accuracy = 96.80%\n",
      "Step 18600 : Training >> loss = 0.000 accuracy = 96.80%  ||  Testing >> loss = 1.976 accuracy = 96.80%\n",
      "Step 18700 : Training >> loss = 0.000 accuracy = 96.80%  ||  Testing >> loss = 1.984 accuracy = 96.80%\n",
      "Step 18800 : Training >> loss = 0.000 accuracy = 96.80%  ||  Testing >> loss = 1.989 accuracy = 96.80%\n",
      "Step 18900 : Training >> loss = 0.000 accuracy = 96.81%  ||  Testing >> loss = 1.995 accuracy = 96.81%\n",
      "Step 19000 : Training >> loss = 0.000 accuracy = 96.81%  ||  Testing >> loss = 2.006 accuracy = 96.81%\n",
      "\n",
      "           |  pattern  |  product  \n",
      "  pattern  |    255    |    65     \n",
      "  product  |    48     |    400    \n"
     ]
    },
    {
     "data": {
      "image/png": "[encoded data removed]",
      "text/plain": [
       "<matplotlib.figure.Figure at 0x172ce080eb8>"
      ]
     },
     "metadata": {},
     "output_type": "display_data"
    },
    {
     "name": "stdout",
     "output_type": "stream",
     "text": [
      "\n",
      "Step 19100 : Training >> loss = 0.000 accuracy = 96.81%  ||  Testing >> loss = 2.016 accuracy = 96.81%\n",
      "Step 19200 : Training >> loss = 0.000 accuracy = 96.81%  ||  Testing >> loss = 2.020 accuracy = 96.81%\n",
      "Step 19300 : Training >> loss = 0.000 accuracy = 96.81%  ||  Testing >> loss = 2.024 accuracy = 96.81%\n",
      "Step 19400 : Training >> loss = 0.000 accuracy = 96.82%  ||  Testing >> loss = 2.037 accuracy = 96.81%\n",
      "Step 19500 : Training >> loss = 0.000 accuracy = 96.82%  ||  Testing >> loss = 2.040 accuracy = 96.82%\n",
      "Step 19600 : Training >> loss = 0.000 accuracy = 96.82%  ||  Testing >> loss = 2.051 accuracy = 96.82%\n",
      "Step 19700 : Training >> loss = 0.000 accuracy = 96.82%  ||  Testing >> loss = 2.062 accuracy = 96.82%\n",
      "Step 19800 : Training >> loss = 0.000 accuracy = 96.82%  ||  Testing >> loss = 2.072 accuracy = 96.82%\n",
      "Step 19900 : Training >> loss = 0.000 accuracy = 96.82%  ||  Testing >> loss = 2.075 accuracy = 96.82%\n",
      "Step 20000 : Training >> loss = 0.000 accuracy = 96.83%  ||  Testing >> loss = 2.080 accuracy = 96.83%\n",
      "\n",
      "           |  pattern  |  product  \n",
      "  pattern  |    255    |    65     \n",
      "  product  |    48     |    400    \n"
     ]
    },
    {
     "data": {
      "image/png": "[encoded data removed]",
      "text/plain": [
       "<matplotlib.figure.Figure at 0x172cddf3518>"
      ]
     },
     "metadata": {},
     "output_type": "display_data"
    },
    {
     "name": "stdout",
     "output_type": "stream",
     "text": [
      "\n",
      "Step 20100 : Training >> loss = 0.000 accuracy = 96.83%  ||  Testing >> loss = 2.089 accuracy = 96.83%\n",
      "Step 20200 : Training >> loss = 0.000 accuracy = 96.83%  ||  Testing >> loss = 2.101 accuracy = 96.83%\n",
      "Step 20300 : Training >> loss = 0.000 accuracy = 96.83%  ||  Testing >> loss = 2.104 accuracy = 96.83%\n",
      "Step 20400 : Training >> loss = 0.000 accuracy = 96.83%  ||  Testing >> loss = 2.107 accuracy = 96.83%\n",
      "Step 20500 : Training >> loss = 0.000 accuracy = 96.83%  ||  Testing >> loss = 2.124 accuracy = 96.83%\n",
      "Step 20600 : Training >> loss = 0.000 accuracy = 96.84%  ||  Testing >> loss = 2.135 accuracy = 96.83%\n",
      "Step 20700 : Training >> loss = 0.000 accuracy = 96.84%  ||  Testing >> loss = 2.138 accuracy = 96.84%\n",
      "Step 20800 : Training >> loss = 0.000 accuracy = 96.84%  ||  Testing >> loss = 2.148 accuracy = 96.84%\n",
      "Step 20900 : Training >> loss = 0.000 accuracy = 96.84%  ||  Testing >> loss = 2.157 accuracy = 96.84%\n",
      "Step 21000 : Training >> loss = 0.000 accuracy = 96.84%  ||  Testing >> loss = 2.171 accuracy = 96.84%\n",
      "\n",
      "           |  pattern  |  product  \n",
      "  pattern  |    254    |    66     \n",
      "  product  |    48     |    400    \n"
     ]
    },
    {
     "data": {
      "image/png": "[encoded data removed]",
      "text/plain": [
       "<matplotlib.figure.Figure at 0x172ce080048>"
      ]
     },
     "metadata": {},
     "output_type": "display_data"
    },
    {
     "name": "stdout",
     "output_type": "stream",
     "text": [
      "\n",
      "Step 21100 : Training >> loss = 0.000 accuracy = 96.84%  ||  Testing >> loss = 2.184 accuracy = 96.84%\n",
      "Step 21200 : Training >> loss = 0.000 accuracy = 96.84%  ||  Testing >> loss = 2.187 accuracy = 96.84%\n",
      "Step 21300 : Training >> loss = 0.000 accuracy = 96.84%  ||  Testing >> loss = 2.201 accuracy = 96.84%\n",
      "Step 21400 : Training >> loss = 0.000 accuracy = 96.85%  ||  Testing >> loss = 2.210 accuracy = 96.85%\n",
      "Step 21500 : Training >> loss = 0.000 accuracy = 96.85%  ||  Testing >> loss = 2.214 accuracy = 96.85%\n",
      "Step 21600 : Training >> loss = 0.000 accuracy = 96.85%  ||  Testing >> loss = 2.226 accuracy = 96.85%\n",
      "Step 21700 : Training >> loss = 0.000 accuracy = 96.85%  ||  Testing >> loss = 2.235 accuracy = 96.85%\n",
      "Step 21800 : Training >> loss = 0.000 accuracy = 96.85%  ||  Testing >> loss = 2.255 accuracy = 96.85%\n",
      "Step 21900 : Training >> loss = 0.000 accuracy = 96.85%  ||  Testing >> loss = 2.269 accuracy = 96.85%\n",
      "Step 22000 : Training >> loss = 0.000 accuracy = 96.85%  ||  Testing >> loss = 2.281 accuracy = 96.85%\n",
      "\n",
      "           |  pattern  |  product  \n",
      "  pattern  |    253    |    67     \n",
      "  product  |    48     |    400    \n"
     ]
    },
    {
     "data": {
      "image/png": "[encoded data removed]",
      "text/plain": [
       "<matplotlib.figure.Figure at 0x172cddf3860>"
      ]
     },
     "metadata": {},
     "output_type": "display_data"
    },
    {
     "name": "stdout",
     "output_type": "stream",
     "text": [
      "\n",
      "Step 22100 : Training >> loss = 0.000 accuracy = 96.85%  ||  Testing >> loss = 2.289 accuracy = 96.85%\n",
      "Step 22200 : Training >> loss = 0.000 accuracy = 96.86%  ||  Testing >> loss = 2.290 accuracy = 96.85%\n",
      "Step 22300 : Training >> loss = 0.000 accuracy = 96.86%  ||  Testing >> loss = 2.305 accuracy = 96.86%\n",
      "Step 22400 : Training >> loss = 0.000 accuracy = 96.86%  ||  Testing >> loss = 2.317 accuracy = 96.86%\n",
      "Step 22500 : Training >> loss = 0.000 accuracy = 96.86%  ||  Testing >> loss = 2.324 accuracy = 96.86%\n",
      "Step 22600 : Training >> loss = 0.000 accuracy = 96.86%  ||  Testing >> loss = 2.350 accuracy = 96.86%\n",
      "Step 22700 : Training >> loss = 0.000 accuracy = 96.86%  ||  Testing >> loss = 2.356 accuracy = 96.86%\n",
      "Step 22800 : Training >> loss = 0.000 accuracy = 96.86%  ||  Testing >> loss = 2.365 accuracy = 96.86%\n",
      "Step 22900 : Training >> loss = 0.000 accuracy = 96.86%  ||  Testing >> loss = 2.367 accuracy = 96.86%\n",
      "Step 23000 : Training >> loss = 0.000 accuracy = 96.86%  ||  Testing >> loss = 2.385 accuracy = 96.86%\n",
      "\n",
      "           |  pattern  |  product  \n",
      "  pattern  |    253    |    67     \n",
      "  product  |    49     |    399    \n"
     ]
    },
    {
     "data": {
      "image/png": "[encoded data removed]",
      "text/plain": [
       "<matplotlib.figure.Figure at 0x1729624cb00>"
      ]
     },
     "metadata": {},
     "output_type": "display_data"
    },
    {
     "name": "stdout",
     "output_type": "stream",
     "text": [
      "\n",
      "Step 23100 : Training >> loss = 0.000 accuracy = 96.87%  ||  Testing >> loss = 2.403 accuracy = 96.86%\n",
      "Step 23200 : Training >> loss = 0.000 accuracy = 96.87%  ||  Testing >> loss = 2.407 accuracy = 96.87%\n",
      "Step 23300 : Training >> loss = 0.000 accuracy = 96.87%  ||  Testing >> loss = 2.415 accuracy = 96.87%\n",
      "Step 23400 : Training >> loss = 0.000 accuracy = 96.87%  ||  Testing >> loss = 2.431 accuracy = 96.87%\n",
      "Step 23500 : Training >> loss = 0.000 accuracy = 96.87%  ||  Testing >> loss = 2.448 accuracy = 96.87%\n",
      "Step 23600 : Training >> loss = 0.000 accuracy = 96.87%  ||  Testing >> loss = 2.456 accuracy = 96.87%\n",
      "Step 23700 : Training >> loss = 0.000 accuracy = 96.87%  ||  Testing >> loss = 2.468 accuracy = 96.87%\n",
      "Step 23800 : Training >> loss = 0.000 accuracy = 96.87%  ||  Testing >> loss = 2.487 accuracy = 96.87%\n",
      "Step 23900 : Training >> loss = 0.000 accuracy = 96.87%  ||  Testing >> loss = 2.496 accuracy = 96.87%\n",
      "Step 24000 : Training >> loss = 0.000 accuracy = 96.87%  ||  Testing >> loss = 2.517 accuracy = 96.87%\n",
      "\n",
      "           |  pattern  |  product  \n",
      "  pattern  |    253    |    67     \n",
      "  product  |    48     |    400    \n"
     ]
    },
    {
     "data": {
      "image/png": "[encoded data removed]",
      "text/plain": [
       "<matplotlib.figure.Figure at 0x172ce0885c0>"
      ]
     },
     "metadata": {},
     "output_type": "display_data"
    },
    {
     "name": "stdout",
     "output_type": "stream",
     "text": [
      "\n",
      "Step 24100 : Training >> loss = 0.000 accuracy = 96.87%  ||  Testing >> loss = 2.521 accuracy = 96.87%\n",
      "Step 24200 : Training >> loss = 0.000 accuracy = 96.88%  ||  Testing >> loss = 2.537 accuracy = 96.87%\n",
      "Step 24300 : Training >> loss = 0.000 accuracy = 96.88%  ||  Testing >> loss = 2.553 accuracy = 96.87%\n",
      "Step 24400 : Training >> loss = 0.000 accuracy = 96.88%  ||  Testing >> loss = 2.566 accuracy = 96.88%\n",
      "Step 24500 : Training >> loss = 0.000 accuracy = 96.88%  ||  Testing >> loss = 2.582 accuracy = 96.88%\n",
      "Step 24600 : Training >> loss = 0.000 accuracy = 96.88%  ||  Testing >> loss = 2.582 accuracy = 96.88%\n",
      "Step 24700 : Training >> loss = 0.000 accuracy = 96.88%  ||  Testing >> loss = 2.599 accuracy = 96.88%\n",
      "Step 24800 : Training >> loss = 0.000 accuracy = 96.88%  ||  Testing >> loss = 2.616 accuracy = 96.88%\n",
      "Step 24900 : Training >> loss = 0.000 accuracy = 96.88%  ||  Testing >> loss = 2.639 accuracy = 96.88%\n",
      "Step 25000 : Training >> loss = 0.000 accuracy = 96.88%  ||  Testing >> loss = 2.646 accuracy = 96.88%\n",
      "\n",
      "           |  pattern  |  product  \n",
      "  pattern  |    253    |    67     \n",
      "  product  |    49     |    399    \n"
     ]
    },
    {
     "data": {
      "image/png": "[encoded data removed]",
      "text/plain": [
       "<matplotlib.figure.Figure at 0x172962ceb70>"
      ]
     },
     "metadata": {},
     "output_type": "display_data"
    },
    {
     "name": "stdout",
     "output_type": "stream",
     "text": [
      "\n",
      "Step 25100 : Training >> loss = 0.000 accuracy = 96.88%  ||  Testing >> loss = 2.663 accuracy = 96.88%\n",
      "Step 25200 : Training >> loss = 0.000 accuracy = 96.88%  ||  Testing >> loss = 2.687 accuracy = 96.88%\n",
      "Step 25300 : Training >> loss = 0.000 accuracy = 96.88%  ||  Testing >> loss = 2.683 accuracy = 96.88%\n",
      "Step 25400 : Training >> loss = 0.000 accuracy = 96.88%  ||  Testing >> loss = 2.703 accuracy = 96.88%\n",
      "Step 25500 : Training >> loss = 0.000 accuracy = 96.89%  ||  Testing >> loss = 2.718 accuracy = 96.88%\n",
      "Step 25600 : Training >> loss = 0.000 accuracy = 96.89%  ||  Testing >> loss = 2.735 accuracy = 96.89%\n",
      "Step 25700 : Training >> loss = 0.000 accuracy = 96.89%  ||  Testing >> loss = 2.756 accuracy = 96.89%\n",
      "Step 25800 : Training >> loss = 0.000 accuracy = 96.89%  ||  Testing >> loss = 2.769 accuracy = 96.89%\n",
      "Step 25900 : Training >> loss = 0.000 accuracy = 96.89%  ||  Testing >> loss = 2.782 accuracy = 96.89%\n",
      "Step 26000 : Training >> loss = 0.000 accuracy = 96.89%  ||  Testing >> loss = 2.806 accuracy = 96.89%\n",
      "\n",
      "           |  pattern  |  product  \n",
      "  pattern  |    253    |    67     \n",
      "  product  |    49     |    399    \n"
     ]
    },
    {
     "data": {
      "image/png": "[encoded data removed]",
      "text/plain": [
       "<matplotlib.figure.Figure at 0x172cde6bc88>"
      ]
     },
     "metadata": {},
     "output_type": "display_data"
    },
    {
     "name": "stdout",
     "output_type": "stream",
     "text": [
      "\n",
      "Step 26100 : Training >> loss = 0.000 accuracy = 96.89%  ||  Testing >> loss = 2.810 accuracy = 96.89%\n",
      "Step 26200 : Training >> loss = 0.000 accuracy = 96.89%  ||  Testing >> loss = 2.826 accuracy = 96.89%\n",
      "Step 26300 : Training >> loss = 0.000 accuracy = 96.89%  ||  Testing >> loss = 2.857 accuracy = 96.89%\n",
      "Step 26400 : Training >> loss = 0.000 accuracy = 96.89%  ||  Testing >> loss = 2.885 accuracy = 96.89%\n",
      "Step 26500 : Training >> loss = 0.000 accuracy = 96.89%  ||  Testing >> loss = 2.896 accuracy = 96.89%\n",
      "Step 26600 : Training >> loss = 0.000 accuracy = 96.89%  ||  Testing >> loss = 2.901 accuracy = 96.89%\n",
      "Step 26700 : Training >> loss = 0.000 accuracy = 96.89%  ||  Testing >> loss = 2.933 accuracy = 96.89%\n",
      "Step 26800 : Training >> loss = 0.000 accuracy = 96.89%  ||  Testing >> loss = 2.959 accuracy = 96.89%\n",
      "Step 26900 : Training >> loss = 0.000 accuracy = 96.89%  ||  Testing >> loss = 2.979 accuracy = 96.89%\n",
      "Step 27000 : Training >> loss = 0.000 accuracy = 96.90%  ||  Testing >> loss = 2.991 accuracy = 96.89%\n",
      "\n",
      "           |  pattern  |  product  \n",
      "  pattern  |    253    |    67     \n",
      "  product  |    50     |    398    \n"
     ]
    },
    {
     "data": {
      "image/png": "[encoded data removed]",
      "text/plain": [
       "<matplotlib.figure.Figure at 0x1728a3ea4a8>"
      ]
     },
     "metadata": {},
     "output_type": "display_data"
    },
    {
     "name": "stdout",
     "output_type": "stream",
     "text": [
      "\n",
      "Step 27100 : Training >> loss = 0.000 accuracy = 96.90%  ||  Testing >> loss = 3.013 accuracy = 96.89%\n",
      "Step 27200 : Training >> loss = 0.000 accuracy = 96.90%  ||  Testing >> loss = 3.046 accuracy = 96.90%\n",
      "Step 27300 : Training >> loss = 0.000 accuracy = 96.90%  ||  Testing >> loss = 3.077 accuracy = 96.90%\n",
      "Step 27400 : Training >> loss = 0.000 accuracy = 96.90%  ||  Testing >> loss = 3.108 accuracy = 96.90%\n",
      "Step 27500 : Training >> loss = 0.000 accuracy = 96.90%  ||  Testing >> loss = 3.125 accuracy = 96.90%\n",
      "Step 27600 : Training >> loss = 0.000 accuracy = 96.90%  ||  Testing >> loss = 3.156 accuracy = 96.90%\n",
      "Step 27700 : Training >> loss = 0.000 accuracy = 96.90%  ||  Testing >> loss = 3.187 accuracy = 96.90%\n",
      "Step 27800 : Training >> loss = 0.000 accuracy = 96.90%  ||  Testing >> loss = 3.205 accuracy = 96.90%\n",
      "Step 27900 : Training >> loss = 0.000 accuracy = 96.90%  ||  Testing >> loss = 3.268 accuracy = 96.90%\n",
      "Step 28000 : Training >> loss = 0.000 accuracy = 96.90%  ||  Testing >> loss = 3.254 accuracy = 96.90%\n",
      "\n",
      "           |  pattern  |  product  \n",
      "  pattern  |    254    |    66     \n",
      "  product  |    51     |    397    \n"
     ]
    },
    {
     "data": {
      "image/png": "[encoded data removed]",
      "text/plain": [
       "<matplotlib.figure.Figure at 0x1728b024860>"
      ]
     },
     "metadata": {},
     "output_type": "display_data"
    },
    {
     "name": "stdout",
     "output_type": "stream",
     "text": [
      "\n",
      "Step 28100 : Training >> loss = 0.000 accuracy = 96.90%  ||  Testing >> loss = 3.332 accuracy = 96.90%\n",
      "Step 28200 : Training >> loss = 0.000 accuracy = 96.90%  ||  Testing >> loss = 3.364 accuracy = 96.90%\n",
      "Step 28300 : Training >> loss = 0.000 accuracy = 96.90%  ||  Testing >> loss = 3.504 accuracy = 96.90%\n",
      "Step 28400 : Training >> loss = 0.000 accuracy = 96.90%  ||  Testing >> loss = 3.587 accuracy = 96.90%\n",
      "Step 28500 : Training >> loss = 0.868 accuracy = 96.89%  ||  Testing >> loss = 0.725 accuracy = 96.85%\n",
      "Step 28600 : Training >> loss = 0.458 accuracy = 96.81%  ||  Testing >> loss = 0.669 accuracy = 96.77%\n",
      "Step 28700 : Training >> loss = 0.385 accuracy = 96.74%  ||  Testing >> loss = 0.730 accuracy = 96.71%\n",
      "Step 28800 : Training >> loss = 0.279 accuracy = 96.70%  ||  Testing >> loss = 0.866 accuracy = 96.67%\n",
      "Step 28900 : Training >> loss = 0.224 accuracy = 96.66%  ||  Testing >> loss = 1.244 accuracy = 96.64%\n",
      "Step 29000 : Training >> loss = 0.158 accuracy = 96.63%  ||  Testing >> loss = 1.227 accuracy = 96.62%\n",
      "\n",
      "           |  pattern  |  product  \n",
      "  pattern  |    199    |    121    \n",
      "  product  |    83     |    365    \n"
     ]
    },
    {
     "data": {
      "image/png": "[encoded data removed]",
      "text/plain": [
       "<matplotlib.figure.Figure at 0x172962e2dd8>"
      ]
     },
     "metadata": {},
     "output_type": "display_data"
    },
    {
     "name": "stdout",
     "output_type": "stream",
     "text": [
      "\n",
      "Step 29100 : Training >> loss = 0.086 accuracy = 96.61%  ||  Testing >> loss = 1.591 accuracy = 96.60%\n",
      "Step 29200 : Training >> loss = 0.048 accuracy = 96.60%  ||  Testing >> loss = 1.631 accuracy = 96.59%\n",
      "Step 29300 : Training >> loss = 0.054 accuracy = 96.59%  ||  Testing >> loss = 1.535 accuracy = 96.58%\n",
      "Step 29400 : Training >> loss = 0.035 accuracy = 96.58%  ||  Testing >> loss = 1.771 accuracy = 96.57%\n",
      "Step 29500 : Training >> loss = 0.012 accuracy = 96.57%  ||  Testing >> loss = 2.034 accuracy = 96.57%\n",
      "Step 29600 : Training >> loss = 0.005 accuracy = 96.56%  ||  Testing >> loss = 2.246 accuracy = 96.56%\n",
      "Step 29700 : Training >> loss = 0.002 accuracy = 96.56%  ||  Testing >> loss = 2.476 accuracy = 96.55%\n",
      "Step 29800 : Training >> loss = 0.001 accuracy = 96.55%  ||  Testing >> loss = 2.727 accuracy = 96.55%\n",
      "Step 29900 : Training >> loss = 0.029 accuracy = 96.55%  ||  Testing >> loss = 2.325 accuracy = 96.54%\n",
      "Step 30000 : Training >> loss = 0.047 accuracy = 96.54%  ||  Testing >> loss = 2.012 accuracy = 96.53%\n",
      "\n",
      "           |  pattern  |  product  \n",
      "  pattern  |    237    |    83     \n",
      "  product  |    145    |    303    \n"
     ]
    },
    {
     "data": {
      "image/png": "[encoded data removed]",
      "text/plain": [
       "<matplotlib.figure.Figure at 0x1728b08bb00>"
      ]
     },
     "metadata": {},
     "output_type": "display_data"
    },
    {
     "name": "stdout",
     "output_type": "stream",
     "text": [
      "\n",
      "Step 30100 : Training >> loss = 0.005 accuracy = 96.53%  ||  Testing >> loss = 2.188 accuracy = 96.52%\n",
      "Step 30200 : Training >> loss = 0.001 accuracy = 96.52%  ||  Testing >> loss = 2.362 accuracy = 96.52%\n",
      "Step 30300 : Training >> loss = 0.000 accuracy = 96.52%  ||  Testing >> loss = 2.466 accuracy = 96.52%\n",
      "Step 30400 : Training >> loss = 0.000 accuracy = 96.52%  ||  Testing >> loss = 2.551 accuracy = 96.51%\n",
      "Step 30500 : Training >> loss = 0.000 accuracy = 96.51%  ||  Testing >> loss = 2.598 accuracy = 96.51%\n",
      "Step 30600 : Training >> loss = 0.000 accuracy = 96.51%  ||  Testing >> loss = 2.657 accuracy = 96.51%\n",
      "Step 30700 : Training >> loss = 0.000 accuracy = 96.51%  ||  Testing >> loss = 2.700 accuracy = 96.51%\n",
      "Step 30800 : Training >> loss = 0.000 accuracy = 96.51%  ||  Testing >> loss = 2.747 accuracy = 96.50%\n",
      "Step 30900 : Training >> loss = 0.000 accuracy = 96.50%  ||  Testing >> loss = 2.785 accuracy = 96.50%\n",
      "Step 31000 : Training >> loss = 0.000 accuracy = 96.50%  ||  Testing >> loss = 2.819 accuracy = 96.50%\n",
      "\n",
      "           |  pattern  |  product  \n",
      "  pattern  |    233    |    87     \n",
      "  product  |    85     |    363    \n"
     ]
    },
    {
     "data": {
      "image/png": "[encoded data removed]",
      "text/plain": [
       "<matplotlib.figure.Figure at 0x17296201748>"
      ]
     },
     "metadata": {},
     "output_type": "display_data"
    },
    {
     "name": "stdout",
     "output_type": "stream",
     "text": [
      "\n",
      "Step 31100 : Training >> loss = 0.000 accuracy = 96.50%  ||  Testing >> loss = 2.850 accuracy = 96.50%\n",
      "Step 31200 : Training >> loss = 0.000 accuracy = 96.50%  ||  Testing >> loss = 2.884 accuracy = 96.49%\n",
      "Step 31300 : Training >> loss = 0.000 accuracy = 96.49%  ||  Testing >> loss = 2.913 accuracy = 96.49%\n",
      "Step 31400 : Training >> loss = 0.000 accuracy = 96.49%  ||  Testing >> loss = 2.938 accuracy = 96.49%\n",
      "Step 31500 : Training >> loss = 0.000 accuracy = 96.49%  ||  Testing >> loss = 2.964 accuracy = 96.48%\n",
      "Step 31600 : Training >> loss = 0.000 accuracy = 96.48%  ||  Testing >> loss = 2.993 accuracy = 96.48%\n",
      "Step 31700 : Training >> loss = 0.000 accuracy = 96.48%  ||  Testing >> loss = 3.011 accuracy = 96.48%\n",
      "Step 31800 : Training >> loss = 0.000 accuracy = 96.48%  ||  Testing >> loss = 3.071 accuracy = 96.48%\n",
      "Step 31900 : Training >> loss = 0.000 accuracy = 96.48%  ||  Testing >> loss = 3.196 accuracy = 96.48%\n",
      "Step 32000 : Training >> loss = 0.000 accuracy = 96.48%  ||  Testing >> loss = 3.231 accuracy = 96.47%\n",
      "\n",
      "           |  pattern  |  product  \n",
      "  pattern  |    236    |    84     \n",
      "  product  |    85     |    363    \n"
     ]
    },
    {
     "data": {
      "image/png": "[encoded data removed]",
      "text/plain": [
       "<matplotlib.figure.Figure at 0x172bdf84f60>"
      ]
     },
     "metadata": {},
     "output_type": "display_data"
    },
    {
     "name": "stdout",
     "output_type": "stream",
     "text": [
      "\n",
      "Step 32100 : Training >> loss = 0.000 accuracy = 96.47%  ||  Testing >> loss = 3.307 accuracy = 96.47%"
     ]
    },
    {
     "ename": "KeyboardInterrupt",
     "evalue": "",
     "output_type": "error",
     "traceback": [
      "\u001b[1;31m---------------------------------------------------------------------------\u001b[0m",
      "\u001b[1;31mKeyboardInterrupt\u001b[0m                         Traceback (most recent call last)",
      "\u001b[1;32m<ipython-input-12-4dc15e297294>\u001b[0m in \u001b[0;36m<module>\u001b[1;34m()\u001b[0m\n\u001b[0;32m     20\u001b[0m             \u001b[0mis_training\u001b[0m \u001b[1;33m:\u001b[0m \u001b[1;32mTrue\u001b[0m\u001b[1;33m,\u001b[0m\u001b[1;33m\u001b[0m\u001b[0m\n\u001b[0;32m     21\u001b[0m             \u001b[0mimages_val\u001b[0m \u001b[1;33m:\u001b[0m \u001b[0mimages_validation\u001b[0m\u001b[1;33m[\u001b[0m\u001b[1;33m:\u001b[0m\u001b[0mVALIDATION_BATCH\u001b[0m\u001b[1;33m]\u001b[0m\u001b[1;33m,\u001b[0m\u001b[1;33m\u001b[0m\u001b[0m\n\u001b[1;32m---> 22\u001b[1;33m             \u001b[0mlabels_val\u001b[0m \u001b[1;33m:\u001b[0m \u001b[0mlabels_validation\u001b[0m\u001b[1;33m[\u001b[0m\u001b[1;33m:\u001b[0m\u001b[0mVALIDATION_BATCH\u001b[0m\u001b[1;33m]\u001b[0m\u001b[1;33m\u001b[0m\u001b[0m\n\u001b[0m\u001b[0;32m     23\u001b[0m         })\n\u001b[0;32m     24\u001b[0m \u001b[1;33m\u001b[0m\u001b[0m\n",
      "\u001b[1;32mC:\\Apps\\Anaconda2\\envs\\work\\lib\\site-packages\\tensorflow\\python\\client\\session.py\u001b[0m in \u001b[0;36mrun\u001b[1;34m(self, fetches, feed_dict, options, run_metadata)\u001b[0m\n\u001b[0;32m    903\u001b[0m     \u001b[1;32mtry\u001b[0m\u001b[1;33m:\u001b[0m\u001b[1;33m\u001b[0m\u001b[0m\n\u001b[0;32m    904\u001b[0m       result = self._run(None, fetches, feed_dict, options_ptr,\n\u001b[1;32m--> 905\u001b[1;33m                          run_metadata_ptr)\n\u001b[0m\u001b[0;32m    906\u001b[0m       \u001b[1;32mif\u001b[0m \u001b[0mrun_metadata\u001b[0m\u001b[1;33m:\u001b[0m\u001b[1;33m\u001b[0m\u001b[0m\n\u001b[0;32m    907\u001b[0m         \u001b[0mproto_data\u001b[0m \u001b[1;33m=\u001b[0m \u001b[0mtf_session\u001b[0m\u001b[1;33m.\u001b[0m\u001b[0mTF_GetBuffer\u001b[0m\u001b[1;33m(\u001b[0m\u001b[0mrun_metadata_ptr\u001b[0m\u001b[1;33m)\u001b[0m\u001b[1;33m\u001b[0m\u001b[0m\n",
      "\u001b[1;32mC:\\Apps\\Anaconda2\\envs\\work\\lib\\site-packages\\tensorflow\\python\\client\\session.py\u001b[0m in \u001b[0;36m_run\u001b[1;34m(self, handle, fetches, feed_dict, options, run_metadata)\u001b[0m\n\u001b[0;32m   1138\u001b[0m     \u001b[1;32mif\u001b[0m \u001b[0mfinal_fetches\u001b[0m \u001b[1;32mor\u001b[0m \u001b[0mfinal_targets\u001b[0m \u001b[1;32mor\u001b[0m \u001b[1;33m(\u001b[0m\u001b[0mhandle\u001b[0m \u001b[1;32mand\u001b[0m \u001b[0mfeed_dict_tensor\u001b[0m\u001b[1;33m)\u001b[0m\u001b[1;33m:\u001b[0m\u001b[1;33m\u001b[0m\u001b[0m\n\u001b[0;32m   1139\u001b[0m       results = self._do_run(handle, final_targets, final_fetches,\n\u001b[1;32m-> 1140\u001b[1;33m                              feed_dict_tensor, options, run_metadata)\n\u001b[0m\u001b[0;32m   1141\u001b[0m     \u001b[1;32melse\u001b[0m\u001b[1;33m:\u001b[0m\u001b[1;33m\u001b[0m\u001b[0m\n\u001b[0;32m   1142\u001b[0m       \u001b[0mresults\u001b[0m \u001b[1;33m=\u001b[0m \u001b[1;33m[\u001b[0m\u001b[1;33m]\u001b[0m\u001b[1;33m\u001b[0m\u001b[0m\n",
      "\u001b[1;32mC:\\Apps\\Anaconda2\\envs\\work\\lib\\site-packages\\tensorflow\\python\\client\\session.py\u001b[0m in \u001b[0;36m_do_run\u001b[1;34m(self, handle, target_list, fetch_list, feed_dict, options, run_metadata)\u001b[0m\n\u001b[0;32m   1319\u001b[0m     \u001b[1;32mif\u001b[0m \u001b[0mhandle\u001b[0m \u001b[1;32mis\u001b[0m \u001b[1;32mNone\u001b[0m\u001b[1;33m:\u001b[0m\u001b[1;33m\u001b[0m\u001b[0m\n\u001b[0;32m   1320\u001b[0m       return self._do_call(_run_fn, feeds, fetches, targets, options,\n\u001b[1;32m-> 1321\u001b[1;33m                            run_metadata)\n\u001b[0m\u001b[0;32m   1322\u001b[0m     \u001b[1;32melse\u001b[0m\u001b[1;33m:\u001b[0m\u001b[1;33m\u001b[0m\u001b[0m\n\u001b[0;32m   1323\u001b[0m       \u001b[1;32mreturn\u001b[0m \u001b[0mself\u001b[0m\u001b[1;33m.\u001b[0m\u001b[0m_do_call\u001b[0m\u001b[1;33m(\u001b[0m\u001b[0m_prun_fn\u001b[0m\u001b[1;33m,\u001b[0m \u001b[0mhandle\u001b[0m\u001b[1;33m,\u001b[0m \u001b[0mfeeds\u001b[0m\u001b[1;33m,\u001b[0m \u001b[0mfetches\u001b[0m\u001b[1;33m)\u001b[0m\u001b[1;33m\u001b[0m\u001b[0m\n",
      "\u001b[1;32mC:\\Apps\\Anaconda2\\envs\\work\\lib\\site-packages\\tensorflow\\python\\client\\session.py\u001b[0m in \u001b[0;36m_do_call\u001b[1;34m(self, fn, *args)\u001b[0m\n\u001b[0;32m   1325\u001b[0m   \u001b[1;32mdef\u001b[0m \u001b[0m_do_call\u001b[0m\u001b[1;33m(\u001b[0m\u001b[0mself\u001b[0m\u001b[1;33m,\u001b[0m \u001b[0mfn\u001b[0m\u001b[1;33m,\u001b[0m \u001b[1;33m*\u001b[0m\u001b[0margs\u001b[0m\u001b[1;33m)\u001b[0m\u001b[1;33m:\u001b[0m\u001b[1;33m\u001b[0m\u001b[0m\n\u001b[0;32m   1326\u001b[0m     \u001b[1;32mtry\u001b[0m\u001b[1;33m:\u001b[0m\u001b[1;33m\u001b[0m\u001b[0m\n\u001b[1;32m-> 1327\u001b[1;33m       \u001b[1;32mreturn\u001b[0m \u001b[0mfn\u001b[0m\u001b[1;33m(\u001b[0m\u001b[1;33m*\u001b[0m\u001b[0margs\u001b[0m\u001b[1;33m)\u001b[0m\u001b[1;33m\u001b[0m\u001b[0m\n\u001b[0m\u001b[0;32m   1328\u001b[0m     \u001b[1;32mexcept\u001b[0m \u001b[0merrors\u001b[0m\u001b[1;33m.\u001b[0m\u001b[0mOpError\u001b[0m \u001b[1;32mas\u001b[0m \u001b[0me\u001b[0m\u001b[1;33m:\u001b[0m\u001b[1;33m\u001b[0m\u001b[0m\n\u001b[0;32m   1329\u001b[0m       \u001b[0mmessage\u001b[0m \u001b[1;33m=\u001b[0m \u001b[0mcompat\u001b[0m\u001b[1;33m.\u001b[0m\u001b[0mas_text\u001b[0m\u001b[1;33m(\u001b[0m\u001b[0me\u001b[0m\u001b[1;33m.\u001b[0m\u001b[0mmessage\u001b[0m\u001b[1;33m)\u001b[0m\u001b[1;33m\u001b[0m\u001b[0m\n",
      "\u001b[1;32mC:\\Apps\\Anaconda2\\envs\\work\\lib\\site-packages\\tensorflow\\python\\client\\session.py\u001b[0m in \u001b[0;36m_run_fn\u001b[1;34m(feed_dict, fetch_list, target_list, options, run_metadata)\u001b[0m\n\u001b[0;32m   1310\u001b[0m       \u001b[0mself\u001b[0m\u001b[1;33m.\u001b[0m\u001b[0m_extend_graph\u001b[0m\u001b[1;33m(\u001b[0m\u001b[1;33m)\u001b[0m\u001b[1;33m\u001b[0m\u001b[0m\n\u001b[0;32m   1311\u001b[0m       return self._call_tf_sessionrun(\n\u001b[1;32m-> 1312\u001b[1;33m           options, feed_dict, fetch_list, target_list, run_metadata)\n\u001b[0m\u001b[0;32m   1313\u001b[0m \u001b[1;33m\u001b[0m\u001b[0m\n\u001b[0;32m   1314\u001b[0m     \u001b[1;32mdef\u001b[0m \u001b[0m_prun_fn\u001b[0m\u001b[1;33m(\u001b[0m\u001b[0mhandle\u001b[0m\u001b[1;33m,\u001b[0m \u001b[0mfeed_dict\u001b[0m\u001b[1;33m,\u001b[0m \u001b[0mfetch_list\u001b[0m\u001b[1;33m)\u001b[0m\u001b[1;33m:\u001b[0m\u001b[1;33m\u001b[0m\u001b[0m\n",
      "\u001b[1;32mC:\\Apps\\Anaconda2\\envs\\work\\lib\\site-packages\\tensorflow\\python\\client\\session.py\u001b[0m in \u001b[0;36m_call_tf_sessionrun\u001b[1;34m(self, options, feed_dict, fetch_list, target_list, run_metadata)\u001b[0m\n\u001b[0;32m   1418\u001b[0m         return tf_session.TF_Run(\n\u001b[0;32m   1419\u001b[0m             \u001b[0mself\u001b[0m\u001b[1;33m.\u001b[0m\u001b[0m_session\u001b[0m\u001b[1;33m,\u001b[0m \u001b[0moptions\u001b[0m\u001b[1;33m,\u001b[0m \u001b[0mfeed_dict\u001b[0m\u001b[1;33m,\u001b[0m \u001b[0mfetch_list\u001b[0m\u001b[1;33m,\u001b[0m \u001b[0mtarget_list\u001b[0m\u001b[1;33m,\u001b[0m\u001b[1;33m\u001b[0m\u001b[0m\n\u001b[1;32m-> 1420\u001b[1;33m             status, run_metadata)\n\u001b[0m\u001b[0;32m   1421\u001b[0m \u001b[1;33m\u001b[0m\u001b[0m\n\u001b[0;32m   1422\u001b[0m   \u001b[1;32mdef\u001b[0m \u001b[0m_call_tf_sessionprun\u001b[0m\u001b[1;33m(\u001b[0m\u001b[0mself\u001b[0m\u001b[1;33m,\u001b[0m \u001b[0mhandle\u001b[0m\u001b[1;33m,\u001b[0m \u001b[0mfeed_dict\u001b[0m\u001b[1;33m,\u001b[0m \u001b[0mfetch_list\u001b[0m\u001b[1;33m)\u001b[0m\u001b[1;33m:\u001b[0m\u001b[1;33m\u001b[0m\u001b[0m\n",
      "\u001b[1;31mKeyboardInterrupt\u001b[0m: "
     ]
    }
   ],
   "source": [
    "try:\n",
    "    step = 0\n",
    "    MILESTONE = 100\n",
    "    CONFUSSION_MILESTONE = 10 * MILESTONE\n",
    "    \n",
    "    min_val_loss = math.inf\n",
    "    max_val_acc = -math.inf\n",
    "    \n",
    "    acc_sum = 0\n",
    "    loss_sum = 0\n",
    "    samples_count = 0\n",
    "    \n",
    "    # feed data until the epoch limit is reached     \n",
    "    while not coord.should_stop():\n",
    "\n",
    "        step += 1\n",
    "        \n",
    "        _, loss_value, acc_value, summary, img_sum = sess.run(\n",
    "                [training_op, loss, accuracy, train_merged, convs_merged], feed_dict={\n",
    "            is_training : True,\n",
    "            images_val : images_validation[:VALIDATION_BATCH],\n",
    "            labels_val : labels_validation[:VALIDATION_BATCH]\n",
    "        })\n",
    "        \n",
    "        # save stats to log         \n",
    "        summary_writer.add_summary(summary, step)\n",
    "        summary_writer.add_summary(img_sum, step)\n",
    "        \n",
    "        acc_sum += acc_value\n",
    "        loss_sum += loss_value\n",
    "        samples_count += 1\n",
    "                        \n",
    "        if step % MILESTONE == 0:\n",
    "            \n",
    "            #===================[ TRAINING SCORE ]===================#\n",
    "            \n",
    "            training_acc = acc_sum / samples_count\n",
    "            training_loss = loss_sum / samples_count\n",
    "                \n",
    "            print(\"\\nStep {0:5d} : Training >> loss = {1:.3f} accuracy = {2:5.2f}%\" \\\n",
    "                  .format(step, training_loss, 100 * training_acc), flush=True, end=\"\")\n",
    "            \n",
    "            acc_sum = 0\n",
    "            loss_sum = 0\n",
    "            samples_count = 0  \n",
    "        \n",
    "            #===================[ TESTING SCORE ]===================#\n",
    "            \n",
    "            val_acc_sum = 0\n",
    "            val_loss_sum = 0\n",
    "            val_samples_count = 0  \n",
    "            confussion_matrix = np.zeros((CLASSES, CLASSES), dtype=np.int32)\n",
    "            \n",
    "            for i in range(VALIDATION_BATCH, len(labels_validation), VALIDATION_BATCH):\n",
    "                \n",
    "                loss_value, acc_value, true, pred, summary = sess.run(\n",
    "                    [loss, accuracy, labels, logits, val_merged], feed_dict={\n",
    "                    is_training : False,\n",
    "                    images_val : images_validation[(i - VALIDATION_BATCH):i],\n",
    "                    labels_val : labels_validation[(i - VALIDATION_BATCH):i]\n",
    "                })\n",
    "                \n",
    "                val_acc_sum += acc_value\n",
    "                val_loss_sum += loss_value\n",
    "                val_samples_count += 1\n",
    "                for i in range(len(true)):\n",
    "                    confussion_matrix[true[i], np.argmax(pred[i])] += 1\n",
    "                                \n",
    "            # save stats to log         \n",
    "            summary_writer.add_summary(summary, step)\n",
    "                \n",
    "            validation_acc = val_acc_sum / val_samples_count\n",
    "            validation_loss = val_loss_sum / val_samples_count\n",
    "            \n",
    "            print(\"  ||  Testing >> loss = {1:.3f} accuracy = {2:5.2f}%\" \\\n",
    "                  .format(step, validation_loss, 100 * validation_acc), flush=True, end=\"\")\n",
    "                        \n",
    "            # display confussion matrix             \n",
    "            if step % CONFUSSION_MILESTONE == 0:\n",
    "                display_confussion_matrix(confussion_matrix, problem_type)\n",
    "                \n",
    "            saving_condition = (validation_loss < min_val_loss)\n",
    "\n",
    "            # save the model for later use         \n",
    "            if saving_mode and saving_condition:\n",
    "                saver.save(sess, saving_path)\n",
    "                \n",
    "            min_val_loss = min(min_val_loss, validation_loss)\n",
    "            max_val_acc  = max(max_val_acc,  validation_acc)\n",
    "        \n",
    "        \n",
    "except tf.errors.OutOfRangeError:\n",
    "    \n",
    "    print('\\nDone training -- epoch limit reached\\n')\n",
    "    \n",
    "finally:\n",
    "    \n",
    "    # when done, ask the threads to stop\n",
    "    coord.request_stop()\n",
    "\n",
    "    # wait for threads to finish\n",
    "    coord.join(threads)\n",
    "    sess.close()"
   ]
  }
 ],
 "metadata": {
  "kernelspec": {
   "display_name": "Python 3",
   "language": "python",
   "name": "python3"
  },
  "language_info": {
   "codemirror_mode": {
    "name": "ipython",
    "version": 3
   },
   "file_extension": ".py",
   "mimetype": "text/x-python",
   "name": "python",
   "nbconvert_exporter": "python",
   "pygments_lexer": "ipython3",
   "version": "3.6.2"
  }
 },
 "nbformat": 4,
 "nbformat_minor": 2
}
