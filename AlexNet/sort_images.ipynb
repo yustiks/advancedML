{
 "cells": [
  {
   "cell_type": "code",
   "execution_count": 3,
   "metadata": {
    "collapsed": false
   },
   "outputs": [],
   "source": [
    "# sort images to different folders by country\n",
    "import pandas as pd\n",
    "import os\n",
    "from shutil import copyfile\n",
    "\n",
    "df = pd.read_csv('decor.csv')\n",
    "dst = 'images/country/Russia/'\n",
    "if not os.path.exists(dst):\n",
    "    os.makedirs(dst)\n",
    "for i in range(0, 276):\n",
    "    copyfile('decor/'+df.loc[i,\"file\"], dst+df.loc[i,\"file\"])    \n",
    "dst = 'images/country/Poland/'\n",
    "if not os.path.exists(dst):\n",
    "    os.makedirs(dst)\n",
    "for i in range(276,385):\n",
    "    copyfile('decor/'+df.loc[i,\"file\"], dst+df.loc[i,\"file\"]) \n",
    "dst = 'images/country/Turkey/'\n",
    "if not os.path.exists(dst):\n",
    "    os.makedirs(dst)\n",
    "for i in range(385, 445):\n",
    "    copyfile('decor/'+df.loc[i,\"file\"], dst+df.loc[i,\"file\"]) \n",
    "dst = 'images/country/Belarus/'\n",
    "if not os.path.exists(dst):\n",
    "    os.makedirs(dst)\n",
    "for i in range(445, 485):\n",
    "    copyfile('decor/'+df.loc[i,\"file\"], dst+df.loc[i,\"file\"]) \n"
   ]
  },
  {
   "cell_type": "code",
   "execution_count": 4,
   "metadata": {
    "collapsed": true
   },
   "outputs": [],
   "source": [
    "# decor\n",
    "dst = 'images/decor/Gzhel/'\n",
    "if not os.path.exists(dst):\n",
    "    os.makedirs(dst)\n",
    "for i in range(0, 88):\n",
    "    copyfile('decor/'+df.loc[i,\"file\"], dst+df.loc[i,\"file\"])  "
   ]
  },
  {
   "cell_type": "code",
   "execution_count": 5,
   "metadata": {
    "collapsed": true
   },
   "outputs": [],
   "source": [
    "dst = 'images/decor/Khokhloma/'\n",
    "if not os.path.exists(dst):\n",
    "    os.makedirs(dst)\n",
    "for i in range(88, 184):\n",
    "    copyfile('decor/'+df.loc[i,\"file\"], dst+df.loc[i,\"file\"]) "
   ]
  },
  {
   "cell_type": "code",
   "execution_count": 6,
   "metadata": {
    "collapsed": true
   },
   "outputs": [],
   "source": [
    "dst = 'images/decor/Gorodets/'\n",
    "if not os.path.exists(dst):\n",
    "    os.makedirs(dst)\n",
    "for i in range(184, 276):\n",
    "    copyfile('decor/'+df.loc[i,\"file\"], dst+df.loc[i,\"file\"]) \n",
    "\n"
   ]
  },
  {
   "cell_type": "code",
   "execution_count": 7,
   "metadata": {
    "collapsed": true
   },
   "outputs": [],
   "source": [
    "dst = 'images/decor/Wycinanki_lowickie/'\n",
    "if not os.path.exists(dst):\n",
    "    os.makedirs(dst)\n",
    "for i in range(276, 331):\n",
    "    copyfile('decor/'+df.loc[i,\"file\"], dst+df.loc[i,\"file\"]) \n"
   ]
  },
  {
   "cell_type": "code",
   "execution_count": 8,
   "metadata": {
    "collapsed": true
   },
   "outputs": [],
   "source": [
    "dst = 'images/decor/Wzory_kaszubskie/'\n",
    "if not os.path.exists(dst):\n",
    "    os.makedirs(dst)\n",
    "for i in range(331, 385):\n",
    "    copyfile('decor/'+df.loc[i,\"file\"], dst+df.loc[i,\"file\"]) "
   ]
  },
  {
   "cell_type": "code",
   "execution_count": 9,
   "metadata": {
    "collapsed": true
   },
   "outputs": [],
   "source": [
    "import os\n",
    "dst = 'images/decor/Iznik/'\n",
    "if not os.path.exists(dst):\n",
    "    os.makedirs(dst)\n",
    "for i in range(385, 445):\n",
    "    copyfile('decor/'+df.loc[i,\"file\"], dst+df.loc[i,\"file\"]) "
   ]
  },
  {
   "cell_type": "code",
   "execution_count": 10,
   "metadata": {
    "collapsed": true
   },
   "outputs": [],
   "source": [
    "dst = 'images/decor/Neglyubka/'\n",
    "if not os.path.exists(dst):\n",
    "    os.makedirs(dst)\n",
    "for i in range(445, 485):\n",
    "    copyfile('decor/'+df.loc[i,\"file\"], dst+df.loc[i,\"file\"]) \n"
   ]
  },
  {
   "cell_type": "code",
   "execution_count": 11,
   "metadata": {
    "collapsed": true
   },
   "outputs": [],
   "source": [
    "dst_pattern = 'images/type/pattern/'\n",
    "dst_product = 'images/type/product/'\n",
    "if not os.path.exists(dst_pattern):\n",
    "    os.makedirs(dst_pattern)\n",
    "if not os.path.exists(dst_product):\n",
    "    os.makedirs(dst_product)\n",
    "for i in range(0, 485):\n",
    "    if df.loc[i,\"type_label\"] == 1:\n",
    "        copyfile('decor/'+df.loc[i,\"file\"], dst_pattern+df.loc[i,\"file\"]) \n",
    "    else: \n",
    "        copyfile('decor/'+df.loc[i,\"file\"], dst_product+df.loc[i,\"file\"])         \n"
   ]
  },
  {
   "cell_type": "code",
   "execution_count": 13,
   "metadata": {
    "collapsed": false
   },
   "outputs": [],
   "source": [
    "import os\n",
    "from PIL import Image \n",
    "dst = 'images/type1/MathWorks pattern/'\n",
    "if not os.path.exists(dst):\n",
    "    os.makedirs(dst)\n",
    "for filename in os.listdir('images/type/pattern/'):\n",
    "    if filename.endswith(\".png\") : \n",
    "        dist ='images/type/pattern/'+ filename\n",
    "        im = Image.open( dist ) # .GET 258,200 [px]\n",
    "        imB = im.resize( ( 227, 227 ) )                        # .SET 516,400 [px] a double\n",
    "        imB.save(dst+filename,'png')        \n",
    "        continue\n",
    "    else:\n",
    "        continue\n"
   ]
  },
  {
   "cell_type": "code",
   "execution_count": 14,
   "metadata": {
    "collapsed": true
   },
   "outputs": [],
   "source": [
    "from PIL import Image    \n",
    "dst = 'images/type1/MathWorks product/'\n",
    "if not os.path.exists(dst):\n",
    "    os.makedirs(dst)\n",
    "for filename in os.listdir('images/type/product/'):\n",
    "    if filename.endswith(\".png\") : \n",
    "        dist ='images/type/product/'+ filename\n",
    "        im = Image.open( dist ) # .GET 258,200 [px]\n",
    "        imB = im.resize( ( 227, 227 ) )                        # .SET 516,400 [px] a double\n",
    "        imB.save(dst+filename,'png')        \n",
    "        continue\n",
    "    else:\n",
    "        continue\n"
   ]
  },
  {
   "cell_type": "code",
   "execution_count": 16,
   "metadata": {
    "collapsed": false
   },
   "outputs": [],
   "source": [
    "dst = 'images/country1/MathWorks Russia/'\n",
    "if not os.path.exists(dst):\n",
    "    os.makedirs(dst)\n",
    "for filename in os.listdir('images/country/Russia/'):\n",
    "    if filename.endswith(\".png\") : \n",
    "        dist ='images/country/Russia/'+ filename\n",
    "        im = Image.open( dist ) # .GET 258,200 [px]\n",
    "        imB = im.resize( ( 227, 227 ) )                        # .SET 516,400 [px] a double\n",
    "        imB.save(dst+filename,'png')        \n",
    "        continue\n",
    "    else:\n",
    "        continue\n"
   ]
  },
  {
   "cell_type": "code",
   "execution_count": 17,
   "metadata": {
    "collapsed": true
   },
   "outputs": [],
   "source": [
    "dst = 'images/country1/MathWorks Poland/'\n",
    "if not os.path.exists(dst):\n",
    "    os.makedirs(dst)\n",
    "for filename in os.listdir('images/country/Poland/'):\n",
    "    if filename.endswith(\".png\") : \n",
    "        dist ='images/country/Poland/'+ filename\n",
    "        im = Image.open( dist ) # .GET 258,200 [px]\n",
    "        imB = im.resize( ( 227, 227 ) )                        # .SET 516,400 [px] a double\n",
    "        imB.save(dst+filename,'png')        \n",
    "        continue\n",
    "    else:\n",
    "        continue"
   ]
  },
  {
   "cell_type": "code",
   "execution_count": 18,
   "metadata": {
    "collapsed": true
   },
   "outputs": [],
   "source": [
    "dst = 'images/country1/MathWorks Turkey/'\n",
    "if not os.path.exists(dst):\n",
    "    os.makedirs(dst)\n",
    "for filename in os.listdir('images/country/Turkey/'):\n",
    "    if filename.endswith(\".png\") : \n",
    "        dist ='images/country/Turkey/'+ filename\n",
    "        im = Image.open( dist ) # .GET 258,200 [px]\n",
    "        imB = im.resize( ( 227, 227 ) )                        # .SET 516,400 [px] a double\n",
    "        imB.save(dst+filename,'png')        \n",
    "        continue\n",
    "    else:\n",
    "        continue"
   ]
  },
  {
   "cell_type": "code",
   "execution_count": 19,
   "metadata": {
    "collapsed": true
   },
   "outputs": [],
   "source": [
    "dst = 'images/country1/MathWorks Belarus/'\n",
    "if not os.path.exists(dst):\n",
    "    os.makedirs(dst)\n",
    "for filename in os.listdir('images/country/Belarus/'):\n",
    "    if filename.endswith(\".png\") : \n",
    "        dist ='images/country/Belarus/'+ filename\n",
    "        im = Image.open( dist ) # .GET 258,200 [px]\n",
    "        imB = im.resize( ( 227, 227 ) )                        # .SET 516,400 [px] a double\n",
    "        imB.save(dst+filename,'png')        \n",
    "        continue\n",
    "    else:\n",
    "        continue"
   ]
  },
  {
   "cell_type": "code",
   "execution_count": 21,
   "metadata": {
    "collapsed": false
   },
   "outputs": [],
   "source": [
    "array_names = ['Gorodets','Gzhel','Iznik','Khokhloma','Neglyubka','Wycinanki_lowickie','Wzory_kaszubskie']\n",
    "for el_name in array_names: \n",
    "    dst = 'images/style1/MathWorks '+el_name+'/'\n",
    "    if not os.path.exists(dst):\n",
    "        os.makedirs(dst)\n",
    "    for filename in os.listdir('images/decor/'+el_name+'/'):\n",
    "        if filename.endswith(\".png\") : \n",
    "            dist ='images/decor/'+el_name+'/'+ filename\n",
    "            im = Image.open( dist ) # .GET 258,200 [px]\n",
    "            imB = im.resize( ( 227, 227 ) )                        # .SET 516,400 [px] a double\n",
    "            imB.save(dst+filename,'png')        \n",
    "            continue\n",
    "        else:\n",
    "            continue"
   ]
  },
  {
   "cell_type": "code",
   "execution_count": null,
   "metadata": {
    "collapsed": true
   },
   "outputs": [],
   "source": []
  }
 ],
 "metadata": {
  "kernelspec": {
   "display_name": "Python 2",
   "language": "python",
   "name": "python2"
  },
  "language_info": {
   "codemirror_mode": {
    "name": "ipython",
    "version": 2
   },
   "file_extension": ".py",
   "mimetype": "text/x-python",
   "name": "python",
   "nbconvert_exporter": "python",
   "pygments_lexer": "ipython2",
   "version": "2.7.13"
  },
  "varInspector": {
   "cols": {
    "lenName": 16,
    "lenType": 16,
    "lenVar": 40
   },
   "kernels_config": {
    "python": {
     "delete_cmd_postfix": "",
     "delete_cmd_prefix": "del ",
     "library": "var_list.py",
     "varRefreshCmd": "print(var_dic_list())"
    },
    "r": {
     "delete_cmd_postfix": ") ",
     "delete_cmd_prefix": "rm(",
     "library": "var_list.r",
     "varRefreshCmd": "cat(var_dic_list()) "
    }
   },
   "types_to_exclude": [
    "module",
    "function",
    "builtin_function_or_method",
    "instance",
    "_Feature"
   ],
   "window_display": false
  }
 },
 "nbformat": 4,
 "nbformat_minor": 2
}
