{
 "cells": [
  {
   "cell_type": "code",
   "execution_count": 14,
   "metadata": {
    "collapsed": true
   },
   "outputs": [],
   "source": [
    "# sort images to different folders by country\n",
    "import pandas as pd\n",
    "from shutil import copyfile\n",
    "\n",
    "df = pd.read_csv('decor.csv')\n",
    "#dst = 'images/country/Russia/'\n",
    "#for i in range(0, 276):\n",
    "#    copyfile('decor/'+df.loc[i,\"file\"], dst+df.loc[i,\"file\"])    \n",
    "#dst = 'images/country/Poland/'\n",
    "#for i in range(276,385):\n",
    "#    copyfile('decor/'+df.loc[i,\"file\"], dst+df.loc[i,\"file\"]) \n",
    "#dst = 'images/country/Turkey/'\n",
    "#for i in range(385, 445):\n",
    "#    copyfile('decor/'+df.loc[i,\"file\"], dst+df.loc[i,\"file\"]) \n",
    "dst = 'images/country/Belarus/'\n",
    "for i in range(445, 485):\n",
    "    copyfile('decor/'+df.loc[i,\"file\"], dst+df.loc[i,\"file\"]) \n"
   ]
  },
  {
   "cell_type": "code",
   "execution_count": 16,
   "metadata": {
    "collapsed": true
   },
   "outputs": [],
   "source": [
    "# decor\n",
    "dst = 'images/decor/Gzhel/'\n",
    "for i in range(0, 88):\n",
    "    copyfile('decor/'+df.loc[i,\"file\"], dst+df.loc[i,\"file\"])  "
   ]
  },
  {
   "cell_type": "code",
   "execution_count": 17,
   "metadata": {
    "collapsed": true
   },
   "outputs": [],
   "source": [
    "dst = 'images/decor/Khokhloma/'\n",
    "for i in range(88, 184):\n",
    "    copyfile('decor/'+df.loc[i,\"file\"], dst+df.loc[i,\"file\"]) "
   ]
  },
  {
   "cell_type": "code",
   "execution_count": 18,
   "metadata": {
    "collapsed": true
   },
   "outputs": [],
   "source": [
    "dst = 'images/decor/Gorodets/'\n",
    "for i in range(184, 276):\n",
    "    copyfile('decor/'+df.loc[i,\"file\"], dst+df.loc[i,\"file\"]) \n",
    "\n"
   ]
  },
  {
   "cell_type": "code",
   "execution_count": 19,
   "metadata": {
    "collapsed": true
   },
   "outputs": [],
   "source": [
    "dst = 'images/decor/Wycinanki_łowickie/'\n",
    "for i in range(276, 331):\n",
    "    copyfile('decor/'+df.loc[i,\"file\"], dst+df.loc[i,\"file\"]) \n"
   ]
  },
  {
   "cell_type": "code",
   "execution_count": 20,
   "metadata": {
    "collapsed": true
   },
   "outputs": [],
   "source": [
    "dst = 'images/decor/Wzory_kaszubskie/'\n",
    "for i in range(331, 385):\n",
    "    copyfile('decor/'+df.loc[i,\"file\"], dst+df.loc[i,\"file\"]) "
   ]
  },
  {
   "cell_type": "code",
   "execution_count": 21,
   "metadata": {
    "collapsed": true
   },
   "outputs": [],
   "source": [
    "import os\n",
    "dst = 'images/decor/Iznik/'\n",
    "if not os.path.exists(dst):\n",
    "    os.makedirs(dst)\n",
    "for i in range(385, 445):\n",
    "    copyfile('decor/'+df.loc[i,\"file\"], dst+df.loc[i,\"file\"]) "
   ]
  },
  {
   "cell_type": "code",
   "execution_count": 22,
   "metadata": {
    "collapsed": true
   },
   "outputs": [],
   "source": [
    "dst = 'images/decor/Neglyubka/'\n",
    "if not os.path.exists(dst):\n",
    "    os.makedirs(dst)\n",
    "for i in range(445, 485):\n",
    "    copyfile('decor/'+df.loc[i,\"file\"], dst+df.loc[i,\"file\"]) \n"
   ]
  },
  {
   "cell_type": "code",
   "execution_count": 25,
   "metadata": {
    "collapsed": true
   },
   "outputs": [],
   "source": [
    "dst_pattern = 'images/type/pattern/'\n",
    "dst_product = 'images/type/product/'\n",
    "if not os.path.exists(dst_pattern):\n",
    "    os.makedirs(dst_pattern)\n",
    "if not os.path.exists(dst_product):\n",
    "    os.makedirs(dst_product)\n",
    "for i in range(0, 485):\n",
    "    if df.loc[i,\"type_label\"] == 1:\n",
    "        copyfile('decor/'+df.loc[i,\"file\"], dst_pattern+df.loc[i,\"file\"]) \n",
    "    else: \n",
    "        copyfile('decor/'+df.loc[i,\"file\"], dst_product+df.loc[i,\"file\"])         \n"
   ]
  },
  {
   "cell_type": "code",
   "execution_count": 14,
   "metadata": {},
   "outputs": [],
   "source": [
    "import os\n",
    "from PIL import Image                                \n",
    "for filename in os.listdir('images/type/pattern/'):\n",
    "    if filename.endswith(\".png\") : \n",
    "        dist ='images/type/pattern/'+ filename\n",
    "        im = Image.open( dist ) # .GET 258,200 [px]\n",
    "        imB = im.resize( ( 227, 227 ) )                        # .SET 516,400 [px] a double\n",
    "        imB.save('images/type1/MathWorks pattern/'+filename,'png')        \n",
    "        continue\n",
    "    else:\n",
    "        continue\n"
   ]
  },
  {
   "cell_type": "code",
   "execution_count": 15,
   "metadata": {
    "collapsed": true
   },
   "outputs": [],
   "source": [
    "from PIL import Image                                \n",
    "for filename in os.listdir('images/type/product/'):\n",
    "    if filename.endswith(\".png\") : \n",
    "        dist ='images/type/product/'+ filename\n",
    "        im = Image.open( dist ) # .GET 258,200 [px]\n",
    "        imB = im.resize( ( 227, 227 ) )                        # .SET 516,400 [px] a double\n",
    "        imB.save('images/type1/MathWorks product/'+filename,'png')        \n",
    "        continue\n",
    "    else:\n",
    "        continue\n"
   ]
  },
  {
   "cell_type": "code",
   "execution_count": null,
   "metadata": {
    "collapsed": true
   },
   "outputs": [],
   "source": []
  }
 ],
 "metadata": {
  "kernelspec": {
   "display_name": "Python 3",
   "language": "python",
   "name": "python3"
  },
  "language_info": {
   "codemirror_mode": {
    "name": "ipython",
    "version": 3
   },
   "file_extension": ".py",
   "mimetype": "text/x-python",
   "name": "python",
   "nbconvert_exporter": "python",
   "pygments_lexer": "ipython3",
   "version": "3.6.3"
  },
  "varInspector": {
   "cols": {
    "lenName": 16,
    "lenType": 16,
    "lenVar": 40
   },
   "kernels_config": {
    "python": {
     "delete_cmd_postfix": "",
     "delete_cmd_prefix": "del ",
     "library": "var_list.py",
     "varRefreshCmd": "print(var_dic_list())"
    },
    "r": {
     "delete_cmd_postfix": ") ",
     "delete_cmd_prefix": "rm(",
     "library": "var_list.r",
     "varRefreshCmd": "cat(var_dic_list()) "
    }
   },
   "types_to_exclude": [
    "module",
    "function",
    "builtin_function_or_method",
    "instance",
    "_Feature"
   ],
   "window_display": false
  }
 },
 "nbformat": 4,
 "nbformat_minor": 2
}
